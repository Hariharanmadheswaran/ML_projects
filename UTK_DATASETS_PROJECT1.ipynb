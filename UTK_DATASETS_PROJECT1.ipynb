{
 "cells": [
  {
   "cell_type": "markdown",
   "id": "fb30ba72",
   "metadata": {},
   "source": [
    "$if you want to run the model go to the heading below called \"you can diretly jump here and work on the model\""
   ]
  },
  {
   "cell_type": "code",
   "execution_count": 1,
   "id": "ba4f6eb2",
   "metadata": {},
   "outputs": [],
   "source": [
    "# loading the neccessary packages\n",
    "import os\n",
    "import numpy as np\n",
    "import pandas as pd\n",
    "import cv2 as cv\n",
    "from sklearn.model_selection import train_test_split\n",
    "from sklearn.svm import SVC\n",
    "from sklearn.ensemble import RandomForestClassifier\n",
    "from sklearn.linear_model import LogisticRegression\n",
    "from sklearn.model_selection import GridSearchCV\n",
    "import joblib\n",
    "from imblearn.over_sampling import SMOTE"
   ]
  },
  {
   "cell_type": "code",
   "execution_count": 2,
   "id": "13484f64",
   "metadata": {},
   "outputs": [],
   "source": [
    "# creaing np.arrays by knowing the count of files of photo i have\n",
    "age=np.zeros((9780,1))\n",
    "gender=np.zeros((9780,1))"
   ]
  },
  {
   "cell_type": "code",
   "execution_count": 3,
   "id": "eac1a68f",
   "metadata": {},
   "outputs": [
    {
     "data": {
      "text/plain": [
       "9780"
      ]
     },
     "execution_count": 3,
     "metadata": {},
     "output_type": "execute_result"
    }
   ],
   "source": [
    "# getting age and gender which is available in filename\n",
    "path=\"G:/complete data science/UTK datasets/crop_part1/\"\n",
    "count=0\n",
    "for entry in os.listdir(path):\n",
    "    age[count]=entry.split(\"_\")[0]\n",
    "    gender[count]=entry.split(\"_\")[1]\n",
    "    count+=1\n",
    "count   "
   ]
  },
  {
   "cell_type": "code",
   "execution_count": 4,
   "id": "c7e45b70",
   "metadata": {},
   "outputs": [
    {
     "data": {
      "text/plain": [
       "9780"
      ]
     },
     "execution_count": 4,
     "metadata": {},
     "output_type": "execute_result"
    }
   ],
   "source": [
    "# horizontal stacking for creating a dataframe\n",
    "data=np.hstack((age,gender))\n",
    "len(data)"
   ]
  },
  {
   "cell_type": "code",
   "execution_count": 5,
   "id": "33fd96e4",
   "metadata": {},
   "outputs": [
    {
     "name": "stdout",
     "output_type": "stream",
     "text": [
      "<class 'pandas.core.frame.DataFrame'>\n",
      "RangeIndex: 9780 entries, 0 to 9779\n",
      "Data columns (total 2 columns):\n",
      " #   Column  Non-Null Count  Dtype  \n",
      "---  ------  --------------  -----  \n",
      " 0   age     9780 non-null   float64\n",
      " 1   gender  9780 non-null   float64\n",
      "dtypes: float64(2)\n",
      "memory usage: 152.9 KB\n"
     ]
    }
   ],
   "source": [
    "df=pd.DataFrame(data,columns=[\"age\",\"gender\"])\n",
    "df.info()"
   ]
  },
  {
   "cell_type": "code",
   "execution_count": 6,
   "id": "64e2e696",
   "metadata": {},
   "outputs": [],
   "source": [
    "# to cluster them into 5 groups other wise it has 100 diiferent ages which asks huge volume data instead ,we have only\n",
    "# 9780 datas \n",
    "def changing_age(i):\n",
    "    i = int(i)\n",
    "    if i < 20:\n",
    "        return 0\n",
    "    elif (i>=20) and (i<40):\n",
    "        return 1\n",
    "    elif (i>=40) and (i<60):\n",
    "        return 2\n",
    "    elif (i>=60) and (i<80):\n",
    "        return 3\n",
    "    elif (i>=80) and (i<100):\n",
    "        return 4\n",
    "    else:\n",
    "        return 5 "
   ]
  },
  {
   "cell_type": "code",
   "execution_count": 7,
   "id": "5efe0733",
   "metadata": {},
   "outputs": [],
   "source": [
    "# making new columns\n",
    "df[\"norm_age\"]=df[\"age\"].apply(changing_age)"
   ]
  },
  {
   "cell_type": "code",
   "execution_count": 8,
   "id": "ed108a4e",
   "metadata": {
    "scrolled": true
   },
   "outputs": [
    {
     "data": {
      "text/plain": [
       "1.0    5407\n",
       "0.0    4372\n",
       "3.0       1\n",
       "Name: gender, dtype: int64"
      ]
     },
     "execution_count": 8,
     "metadata": {},
     "output_type": "execute_result"
    }
   ],
   "source": [
    "df.gender.value_counts()"
   ]
  },
  {
   "cell_type": "markdown",
   "id": "a7df27e1",
   "metadata": {},
   "source": [
    "df[df.gender==3.0].index"
   ]
  },
  {
   "cell_type": "markdown",
   "id": "69654ff9",
   "metadata": {},
   "source": [
    "df.drop(df[df.gender==3.0].index,axis=0,inplace=True)"
   ]
  },
  {
   "cell_type": "markdown",
   "id": "537d9c85",
   "metadata": {},
   "source": [
    "df.gender.value_counts()"
   ]
  },
  {
   "cell_type": "code",
   "execution_count": 11,
   "id": "4e5c98c6",
   "metadata": {},
   "outputs": [
    {
     "data": {
      "text/plain": [
       "array([0., 0., 0., ..., 0., 0., 0.])"
      ]
     },
     "execution_count": 11,
     "metadata": {},
     "output_type": "execute_result"
    }
   ],
   "source": [
    "# getting the image as one dimensional array ,here 9780 is nothing but the len(images) that we have in file folder \n",
    "arr=np.zeros((9780,32*32))\n",
    "# sample to see how it would be?\n",
    "arr[0]"
   ]
  },
  {
   "cell_type": "code",
   "execution_count": 12,
   "id": "b32bd2e3",
   "metadata": {},
   "outputs": [],
   "source": [
    "count=0\n",
    "for entry in os.listdir(path):\n",
    "#     print(path+entry)\n",
    "    img=cv.imread(path+entry)\n",
    "    gray=cv.cvtColor(img,cv.COLOR_BGR2GRAY)\n",
    "    gray=cv.resize(gray,(32,32))\n",
    "#     print(gray)\n",
    "    arr[count]=gray.reshape(1,32*32)\n",
    "#     print(gray.shape)\n",
    "    count+=1\n",
    "   "
   ]
  },
  {
   "cell_type": "code",
   "execution_count": 13,
   "id": "8b84acf3",
   "metadata": {},
   "outputs": [
    {
     "data": {
      "text/plain": [
       "array([[0.9137255 , 0.45490196, 0.36078432, ..., 0.03137255, 0.12156863,\n",
       "        0.27450982],\n",
       "       [0.14117648, 0.13333334, 0.13725491, ..., 0.2627451 , 0.29803923,\n",
       "        0.29803923],\n",
       "       [0.8745098 , 0.88235295, 0.8745098 , ..., 0.3019608 , 0.25882354,\n",
       "        0.22745098],\n",
       "       ...,\n",
       "       [0.8235294 , 0.78039217, 0.36078432, ..., 0.7411765 , 0.78431374,\n",
       "        0.01568628],\n",
       "       [0.03137255, 0.03529412, 0.05490196, ..., 0.14901961, 0.12941177,\n",
       "        0.14901961],\n",
       "       [0.72156864, 0.43529412, 0.25490198, ..., 0.06666667, 0.0627451 ,\n",
       "        0.08627451]], dtype=float32)"
      ]
     },
     "execution_count": 13,
     "metadata": {},
     "output_type": "execute_result"
    }
   ],
   "source": [
    "# normalize data to avoid skew in the datasets\n",
    "arr = arr.astype('float32')\n",
    "arr /= 255\n",
    "arr"
   ]
  },
  {
   "cell_type": "code",
   "execution_count": 14,
   "id": "cd4845aa",
   "metadata": {},
   "outputs": [
    {
     "data": {
      "text/html": [
       "<div>\n",
       "<style scoped>\n",
       "    .dataframe tbody tr th:only-of-type {\n",
       "        vertical-align: middle;\n",
       "    }\n",
       "\n",
       "    .dataframe tbody tr th {\n",
       "        vertical-align: top;\n",
       "    }\n",
       "\n",
       "    .dataframe thead th {\n",
       "        text-align: right;\n",
       "    }\n",
       "</style>\n",
       "<table border=\"1\" class=\"dataframe\">\n",
       "  <thead>\n",
       "    <tr style=\"text-align: right;\">\n",
       "      <th></th>\n",
       "      <th>0</th>\n",
       "      <th>1</th>\n",
       "      <th>2</th>\n",
       "      <th>3</th>\n",
       "      <th>4</th>\n",
       "      <th>5</th>\n",
       "      <th>6</th>\n",
       "      <th>7</th>\n",
       "      <th>8</th>\n",
       "      <th>9</th>\n",
       "      <th>...</th>\n",
       "      <th>1014</th>\n",
       "      <th>1015</th>\n",
       "      <th>1016</th>\n",
       "      <th>1017</th>\n",
       "      <th>1018</th>\n",
       "      <th>1019</th>\n",
       "      <th>1020</th>\n",
       "      <th>1021</th>\n",
       "      <th>1022</th>\n",
       "      <th>1023</th>\n",
       "    </tr>\n",
       "  </thead>\n",
       "  <tbody>\n",
       "    <tr>\n",
       "      <th>0</th>\n",
       "      <td>0.913725</td>\n",
       "      <td>0.454902</td>\n",
       "      <td>0.360784</td>\n",
       "      <td>0.619608</td>\n",
       "      <td>0.956863</td>\n",
       "      <td>0.913725</td>\n",
       "      <td>0.874510</td>\n",
       "      <td>0.933333</td>\n",
       "      <td>0.890196</td>\n",
       "      <td>0.905882</td>\n",
       "      <td>...</td>\n",
       "      <td>0.223529</td>\n",
       "      <td>0.164706</td>\n",
       "      <td>0.082353</td>\n",
       "      <td>0.066667</td>\n",
       "      <td>0.039216</td>\n",
       "      <td>0.015686</td>\n",
       "      <td>0.023529</td>\n",
       "      <td>0.031373</td>\n",
       "      <td>0.121569</td>\n",
       "      <td>0.274510</td>\n",
       "    </tr>\n",
       "    <tr>\n",
       "      <th>1</th>\n",
       "      <td>0.141176</td>\n",
       "      <td>0.133333</td>\n",
       "      <td>0.137255</td>\n",
       "      <td>0.105882</td>\n",
       "      <td>0.086275</td>\n",
       "      <td>0.164706</td>\n",
       "      <td>0.219608</td>\n",
       "      <td>0.266667</td>\n",
       "      <td>0.349020</td>\n",
       "      <td>0.403922</td>\n",
       "      <td>...</td>\n",
       "      <td>0.282353</td>\n",
       "      <td>0.117647</td>\n",
       "      <td>0.125490</td>\n",
       "      <td>0.172549</td>\n",
       "      <td>0.211765</td>\n",
       "      <td>0.262745</td>\n",
       "      <td>0.254902</td>\n",
       "      <td>0.262745</td>\n",
       "      <td>0.298039</td>\n",
       "      <td>0.298039</td>\n",
       "    </tr>\n",
       "    <tr>\n",
       "      <th>2</th>\n",
       "      <td>0.874510</td>\n",
       "      <td>0.882353</td>\n",
       "      <td>0.874510</td>\n",
       "      <td>0.803922</td>\n",
       "      <td>0.392157</td>\n",
       "      <td>0.796078</td>\n",
       "      <td>0.921569</td>\n",
       "      <td>0.945098</td>\n",
       "      <td>0.917647</td>\n",
       "      <td>0.858824</td>\n",
       "      <td>...</td>\n",
       "      <td>0.619608</td>\n",
       "      <td>0.709804</td>\n",
       "      <td>0.596078</td>\n",
       "      <td>0.627451</td>\n",
       "      <td>0.666667</td>\n",
       "      <td>0.654902</td>\n",
       "      <td>0.243137</td>\n",
       "      <td>0.301961</td>\n",
       "      <td>0.258824</td>\n",
       "      <td>0.227451</td>\n",
       "    </tr>\n",
       "    <tr>\n",
       "      <th>3</th>\n",
       "      <td>0.313726</td>\n",
       "      <td>0.278431</td>\n",
       "      <td>0.180392</td>\n",
       "      <td>0.196078</td>\n",
       "      <td>0.227451</td>\n",
       "      <td>0.250980</td>\n",
       "      <td>0.423529</td>\n",
       "      <td>0.454902</td>\n",
       "      <td>0.392157</td>\n",
       "      <td>0.313726</td>\n",
       "      <td>...</td>\n",
       "      <td>0.639216</td>\n",
       "      <td>0.658824</td>\n",
       "      <td>0.682353</td>\n",
       "      <td>0.713726</td>\n",
       "      <td>0.729412</td>\n",
       "      <td>0.733333</td>\n",
       "      <td>0.752941</td>\n",
       "      <td>0.709804</td>\n",
       "      <td>0.619608</td>\n",
       "      <td>0.235294</td>\n",
       "    </tr>\n",
       "    <tr>\n",
       "      <th>4</th>\n",
       "      <td>0.262745</td>\n",
       "      <td>0.207843</td>\n",
       "      <td>0.286275</td>\n",
       "      <td>0.509804</td>\n",
       "      <td>0.639216</td>\n",
       "      <td>0.666667</td>\n",
       "      <td>0.682353</td>\n",
       "      <td>0.713726</td>\n",
       "      <td>0.737255</td>\n",
       "      <td>0.752941</td>\n",
       "      <td>...</td>\n",
       "      <td>0.749020</td>\n",
       "      <td>0.721569</td>\n",
       "      <td>0.298039</td>\n",
       "      <td>0.203922</td>\n",
       "      <td>0.294118</td>\n",
       "      <td>0.101961</td>\n",
       "      <td>0.235294</td>\n",
       "      <td>0.411765</td>\n",
       "      <td>0.827451</td>\n",
       "      <td>0.690196</td>\n",
       "    </tr>\n",
       "    <tr>\n",
       "      <th>...</th>\n",
       "      <td>...</td>\n",
       "      <td>...</td>\n",
       "      <td>...</td>\n",
       "      <td>...</td>\n",
       "      <td>...</td>\n",
       "      <td>...</td>\n",
       "      <td>...</td>\n",
       "      <td>...</td>\n",
       "      <td>...</td>\n",
       "      <td>...</td>\n",
       "      <td>...</td>\n",
       "      <td>...</td>\n",
       "      <td>...</td>\n",
       "      <td>...</td>\n",
       "      <td>...</td>\n",
       "      <td>...</td>\n",
       "      <td>...</td>\n",
       "      <td>...</td>\n",
       "      <td>...</td>\n",
       "      <td>...</td>\n",
       "      <td>...</td>\n",
       "    </tr>\n",
       "    <tr>\n",
       "      <th>9775</th>\n",
       "      <td>0.996078</td>\n",
       "      <td>0.992157</td>\n",
       "      <td>0.988235</td>\n",
       "      <td>0.466667</td>\n",
       "      <td>0.301961</td>\n",
       "      <td>0.223529</td>\n",
       "      <td>0.627451</td>\n",
       "      <td>0.698039</td>\n",
       "      <td>0.737255</td>\n",
       "      <td>0.768627</td>\n",
       "      <td>...</td>\n",
       "      <td>0.329412</td>\n",
       "      <td>0.160784</td>\n",
       "      <td>0.196078</td>\n",
       "      <td>0.207843</td>\n",
       "      <td>0.215686</td>\n",
       "      <td>0.215686</td>\n",
       "      <td>0.196078</td>\n",
       "      <td>0.164706</td>\n",
       "      <td>0.164706</td>\n",
       "      <td>0.129412</td>\n",
       "    </tr>\n",
       "    <tr>\n",
       "      <th>9776</th>\n",
       "      <td>0.000000</td>\n",
       "      <td>0.003922</td>\n",
       "      <td>0.019608</td>\n",
       "      <td>0.015686</td>\n",
       "      <td>0.015686</td>\n",
       "      <td>0.003922</td>\n",
       "      <td>0.007843</td>\n",
       "      <td>0.043137</td>\n",
       "      <td>0.176471</td>\n",
       "      <td>0.274510</td>\n",
       "      <td>...</td>\n",
       "      <td>0.725490</td>\n",
       "      <td>0.490196</td>\n",
       "      <td>0.050980</td>\n",
       "      <td>0.011765</td>\n",
       "      <td>0.007843</td>\n",
       "      <td>0.023529</td>\n",
       "      <td>0.062745</td>\n",
       "      <td>0.035294</td>\n",
       "      <td>0.023529</td>\n",
       "      <td>0.015686</td>\n",
       "    </tr>\n",
       "    <tr>\n",
       "      <th>9777</th>\n",
       "      <td>0.823529</td>\n",
       "      <td>0.780392</td>\n",
       "      <td>0.360784</td>\n",
       "      <td>0.431373</td>\n",
       "      <td>0.439216</td>\n",
       "      <td>0.600000</td>\n",
       "      <td>0.749020</td>\n",
       "      <td>0.788235</td>\n",
       "      <td>0.807843</td>\n",
       "      <td>0.807843</td>\n",
       "      <td>...</td>\n",
       "      <td>0.654902</td>\n",
       "      <td>0.435294</td>\n",
       "      <td>0.235294</td>\n",
       "      <td>0.709804</td>\n",
       "      <td>0.698039</td>\n",
       "      <td>0.760784</td>\n",
       "      <td>0.760784</td>\n",
       "      <td>0.741176</td>\n",
       "      <td>0.784314</td>\n",
       "      <td>0.015686</td>\n",
       "    </tr>\n",
       "    <tr>\n",
       "      <th>9778</th>\n",
       "      <td>0.031373</td>\n",
       "      <td>0.035294</td>\n",
       "      <td>0.054902</td>\n",
       "      <td>0.160784</td>\n",
       "      <td>0.298039</td>\n",
       "      <td>0.372549</td>\n",
       "      <td>0.486275</td>\n",
       "      <td>0.580392</td>\n",
       "      <td>0.658824</td>\n",
       "      <td>0.721569</td>\n",
       "      <td>...</td>\n",
       "      <td>0.666667</td>\n",
       "      <td>0.705882</td>\n",
       "      <td>0.666667</td>\n",
       "      <td>0.584314</td>\n",
       "      <td>0.513726</td>\n",
       "      <td>0.380392</td>\n",
       "      <td>0.164706</td>\n",
       "      <td>0.149020</td>\n",
       "      <td>0.129412</td>\n",
       "      <td>0.149020</td>\n",
       "    </tr>\n",
       "    <tr>\n",
       "      <th>9779</th>\n",
       "      <td>0.721569</td>\n",
       "      <td>0.435294</td>\n",
       "      <td>0.254902</td>\n",
       "      <td>0.239216</td>\n",
       "      <td>0.329412</td>\n",
       "      <td>0.470588</td>\n",
       "      <td>0.552941</td>\n",
       "      <td>0.603922</td>\n",
       "      <td>0.615686</td>\n",
       "      <td>0.662745</td>\n",
       "      <td>...</td>\n",
       "      <td>0.721569</td>\n",
       "      <td>0.400000</td>\n",
       "      <td>0.094118</td>\n",
       "      <td>0.027451</td>\n",
       "      <td>0.027451</td>\n",
       "      <td>0.035294</td>\n",
       "      <td>0.039216</td>\n",
       "      <td>0.066667</td>\n",
       "      <td>0.062745</td>\n",
       "      <td>0.086275</td>\n",
       "    </tr>\n",
       "  </tbody>\n",
       "</table>\n",
       "<p>9780 rows × 1024 columns</p>\n",
       "</div>"
      ],
      "text/plain": [
       "          0         1         2         3         4         5         6     \\\n",
       "0     0.913725  0.454902  0.360784  0.619608  0.956863  0.913725  0.874510   \n",
       "1     0.141176  0.133333  0.137255  0.105882  0.086275  0.164706  0.219608   \n",
       "2     0.874510  0.882353  0.874510  0.803922  0.392157  0.796078  0.921569   \n",
       "3     0.313726  0.278431  0.180392  0.196078  0.227451  0.250980  0.423529   \n",
       "4     0.262745  0.207843  0.286275  0.509804  0.639216  0.666667  0.682353   \n",
       "...        ...       ...       ...       ...       ...       ...       ...   \n",
       "9775  0.996078  0.992157  0.988235  0.466667  0.301961  0.223529  0.627451   \n",
       "9776  0.000000  0.003922  0.019608  0.015686  0.015686  0.003922  0.007843   \n",
       "9777  0.823529  0.780392  0.360784  0.431373  0.439216  0.600000  0.749020   \n",
       "9778  0.031373  0.035294  0.054902  0.160784  0.298039  0.372549  0.486275   \n",
       "9779  0.721569  0.435294  0.254902  0.239216  0.329412  0.470588  0.552941   \n",
       "\n",
       "          7         8         9     ...      1014      1015      1016  \\\n",
       "0     0.933333  0.890196  0.905882  ...  0.223529  0.164706  0.082353   \n",
       "1     0.266667  0.349020  0.403922  ...  0.282353  0.117647  0.125490   \n",
       "2     0.945098  0.917647  0.858824  ...  0.619608  0.709804  0.596078   \n",
       "3     0.454902  0.392157  0.313726  ...  0.639216  0.658824  0.682353   \n",
       "4     0.713726  0.737255  0.752941  ...  0.749020  0.721569  0.298039   \n",
       "...        ...       ...       ...  ...       ...       ...       ...   \n",
       "9775  0.698039  0.737255  0.768627  ...  0.329412  0.160784  0.196078   \n",
       "9776  0.043137  0.176471  0.274510  ...  0.725490  0.490196  0.050980   \n",
       "9777  0.788235  0.807843  0.807843  ...  0.654902  0.435294  0.235294   \n",
       "9778  0.580392  0.658824  0.721569  ...  0.666667  0.705882  0.666667   \n",
       "9779  0.603922  0.615686  0.662745  ...  0.721569  0.400000  0.094118   \n",
       "\n",
       "          1017      1018      1019      1020      1021      1022      1023  \n",
       "0     0.066667  0.039216  0.015686  0.023529  0.031373  0.121569  0.274510  \n",
       "1     0.172549  0.211765  0.262745  0.254902  0.262745  0.298039  0.298039  \n",
       "2     0.627451  0.666667  0.654902  0.243137  0.301961  0.258824  0.227451  \n",
       "3     0.713726  0.729412  0.733333  0.752941  0.709804  0.619608  0.235294  \n",
       "4     0.203922  0.294118  0.101961  0.235294  0.411765  0.827451  0.690196  \n",
       "...        ...       ...       ...       ...       ...       ...       ...  \n",
       "9775  0.207843  0.215686  0.215686  0.196078  0.164706  0.164706  0.129412  \n",
       "9776  0.011765  0.007843  0.023529  0.062745  0.035294  0.023529  0.015686  \n",
       "9777  0.709804  0.698039  0.760784  0.760784  0.741176  0.784314  0.015686  \n",
       "9778  0.584314  0.513726  0.380392  0.164706  0.149020  0.129412  0.149020  \n",
       "9779  0.027451  0.027451  0.035294  0.039216  0.066667  0.062745  0.086275  \n",
       "\n",
       "[9780 rows x 1024 columns]"
      ]
     },
     "execution_count": 14,
     "metadata": {},
     "output_type": "execute_result"
    }
   ],
   "source": [
    "# making dataframe \n",
    "df1=pd.DataFrame(arr)\n",
    "df1"
   ]
  },
  {
   "cell_type": "code",
   "execution_count": 15,
   "id": "c0c775d1",
   "metadata": {},
   "outputs": [],
   "source": [
    "#we are creating csv so, we are in situation to create array of images every time we run the notebook\n",
    "the_pandas_datframe=df1.to_csv(\"G:/csv_files/UTK_DATASETS_project.csv\",index=False)"
   ]
  },
  {
   "cell_type": "code",
   "execution_count": 9,
   "id": "6d75d36c",
   "metadata": {},
   "outputs": [
    {
     "data": {
      "text/html": [
       "<div>\n",
       "<style scoped>\n",
       "    .dataframe tbody tr th:only-of-type {\n",
       "        vertical-align: middle;\n",
       "    }\n",
       "\n",
       "    .dataframe tbody tr th {\n",
       "        vertical-align: top;\n",
       "    }\n",
       "\n",
       "    .dataframe thead th {\n",
       "        text-align: right;\n",
       "    }\n",
       "</style>\n",
       "<table border=\"1\" class=\"dataframe\">\n",
       "  <thead>\n",
       "    <tr style=\"text-align: right;\">\n",
       "      <th></th>\n",
       "      <th>0</th>\n",
       "      <th>1</th>\n",
       "      <th>2</th>\n",
       "      <th>3</th>\n",
       "      <th>4</th>\n",
       "      <th>5</th>\n",
       "      <th>6</th>\n",
       "      <th>7</th>\n",
       "      <th>8</th>\n",
       "      <th>9</th>\n",
       "      <th>...</th>\n",
       "      <th>1014</th>\n",
       "      <th>1015</th>\n",
       "      <th>1016</th>\n",
       "      <th>1017</th>\n",
       "      <th>1018</th>\n",
       "      <th>1019</th>\n",
       "      <th>1020</th>\n",
       "      <th>1021</th>\n",
       "      <th>1022</th>\n",
       "      <th>1023</th>\n",
       "    </tr>\n",
       "  </thead>\n",
       "  <tbody>\n",
       "    <tr>\n",
       "      <th>0</th>\n",
       "      <td>0.913725</td>\n",
       "      <td>0.454902</td>\n",
       "      <td>0.360784</td>\n",
       "      <td>0.619608</td>\n",
       "      <td>0.956863</td>\n",
       "      <td>0.913725</td>\n",
       "      <td>0.874510</td>\n",
       "      <td>0.933333</td>\n",
       "      <td>0.890196</td>\n",
       "      <td>0.905882</td>\n",
       "      <td>...</td>\n",
       "      <td>0.223529</td>\n",
       "      <td>0.164706</td>\n",
       "      <td>0.082353</td>\n",
       "      <td>0.066667</td>\n",
       "      <td>0.039216</td>\n",
       "      <td>0.015686</td>\n",
       "      <td>0.023529</td>\n",
       "      <td>0.031373</td>\n",
       "      <td>0.121569</td>\n",
       "      <td>0.274510</td>\n",
       "    </tr>\n",
       "    <tr>\n",
       "      <th>1</th>\n",
       "      <td>0.141176</td>\n",
       "      <td>0.133333</td>\n",
       "      <td>0.137255</td>\n",
       "      <td>0.105882</td>\n",
       "      <td>0.086275</td>\n",
       "      <td>0.164706</td>\n",
       "      <td>0.219608</td>\n",
       "      <td>0.266667</td>\n",
       "      <td>0.349020</td>\n",
       "      <td>0.403922</td>\n",
       "      <td>...</td>\n",
       "      <td>0.282353</td>\n",
       "      <td>0.117647</td>\n",
       "      <td>0.125490</td>\n",
       "      <td>0.172549</td>\n",
       "      <td>0.211765</td>\n",
       "      <td>0.262745</td>\n",
       "      <td>0.254902</td>\n",
       "      <td>0.262745</td>\n",
       "      <td>0.298039</td>\n",
       "      <td>0.298039</td>\n",
       "    </tr>\n",
       "    <tr>\n",
       "      <th>2</th>\n",
       "      <td>0.874510</td>\n",
       "      <td>0.882353</td>\n",
       "      <td>0.874510</td>\n",
       "      <td>0.803922</td>\n",
       "      <td>0.392157</td>\n",
       "      <td>0.796078</td>\n",
       "      <td>0.921569</td>\n",
       "      <td>0.945098</td>\n",
       "      <td>0.917647</td>\n",
       "      <td>0.858824</td>\n",
       "      <td>...</td>\n",
       "      <td>0.619608</td>\n",
       "      <td>0.709804</td>\n",
       "      <td>0.596078</td>\n",
       "      <td>0.627451</td>\n",
       "      <td>0.666667</td>\n",
       "      <td>0.654902</td>\n",
       "      <td>0.243137</td>\n",
       "      <td>0.301961</td>\n",
       "      <td>0.258824</td>\n",
       "      <td>0.227451</td>\n",
       "    </tr>\n",
       "    <tr>\n",
       "      <th>3</th>\n",
       "      <td>0.313725</td>\n",
       "      <td>0.278431</td>\n",
       "      <td>0.180392</td>\n",
       "      <td>0.196078</td>\n",
       "      <td>0.227451</td>\n",
       "      <td>0.250980</td>\n",
       "      <td>0.423529</td>\n",
       "      <td>0.454902</td>\n",
       "      <td>0.392157</td>\n",
       "      <td>0.313725</td>\n",
       "      <td>...</td>\n",
       "      <td>0.639216</td>\n",
       "      <td>0.658824</td>\n",
       "      <td>0.682353</td>\n",
       "      <td>0.713726</td>\n",
       "      <td>0.729412</td>\n",
       "      <td>0.733333</td>\n",
       "      <td>0.752941</td>\n",
       "      <td>0.709804</td>\n",
       "      <td>0.619608</td>\n",
       "      <td>0.235294</td>\n",
       "    </tr>\n",
       "    <tr>\n",
       "      <th>4</th>\n",
       "      <td>0.262745</td>\n",
       "      <td>0.207843</td>\n",
       "      <td>0.286275</td>\n",
       "      <td>0.509804</td>\n",
       "      <td>0.639216</td>\n",
       "      <td>0.666667</td>\n",
       "      <td>0.682353</td>\n",
       "      <td>0.713726</td>\n",
       "      <td>0.737255</td>\n",
       "      <td>0.752941</td>\n",
       "      <td>...</td>\n",
       "      <td>0.749020</td>\n",
       "      <td>0.721569</td>\n",
       "      <td>0.298039</td>\n",
       "      <td>0.203922</td>\n",
       "      <td>0.294118</td>\n",
       "      <td>0.101961</td>\n",
       "      <td>0.235294</td>\n",
       "      <td>0.411765</td>\n",
       "      <td>0.827451</td>\n",
       "      <td>0.690196</td>\n",
       "    </tr>\n",
       "    <tr>\n",
       "      <th>...</th>\n",
       "      <td>...</td>\n",
       "      <td>...</td>\n",
       "      <td>...</td>\n",
       "      <td>...</td>\n",
       "      <td>...</td>\n",
       "      <td>...</td>\n",
       "      <td>...</td>\n",
       "      <td>...</td>\n",
       "      <td>...</td>\n",
       "      <td>...</td>\n",
       "      <td>...</td>\n",
       "      <td>...</td>\n",
       "      <td>...</td>\n",
       "      <td>...</td>\n",
       "      <td>...</td>\n",
       "      <td>...</td>\n",
       "      <td>...</td>\n",
       "      <td>...</td>\n",
       "      <td>...</td>\n",
       "      <td>...</td>\n",
       "      <td>...</td>\n",
       "    </tr>\n",
       "    <tr>\n",
       "      <th>9775</th>\n",
       "      <td>0.996078</td>\n",
       "      <td>0.992157</td>\n",
       "      <td>0.988235</td>\n",
       "      <td>0.466667</td>\n",
       "      <td>0.301961</td>\n",
       "      <td>0.223529</td>\n",
       "      <td>0.627451</td>\n",
       "      <td>0.698039</td>\n",
       "      <td>0.737255</td>\n",
       "      <td>0.768627</td>\n",
       "      <td>...</td>\n",
       "      <td>0.329412</td>\n",
       "      <td>0.160784</td>\n",
       "      <td>0.196078</td>\n",
       "      <td>0.207843</td>\n",
       "      <td>0.215686</td>\n",
       "      <td>0.215686</td>\n",
       "      <td>0.196078</td>\n",
       "      <td>0.164706</td>\n",
       "      <td>0.164706</td>\n",
       "      <td>0.129412</td>\n",
       "    </tr>\n",
       "    <tr>\n",
       "      <th>9776</th>\n",
       "      <td>0.000000</td>\n",
       "      <td>0.003922</td>\n",
       "      <td>0.019608</td>\n",
       "      <td>0.015686</td>\n",
       "      <td>0.015686</td>\n",
       "      <td>0.003922</td>\n",
       "      <td>0.007843</td>\n",
       "      <td>0.043137</td>\n",
       "      <td>0.176471</td>\n",
       "      <td>0.274510</td>\n",
       "      <td>...</td>\n",
       "      <td>0.725490</td>\n",
       "      <td>0.490196</td>\n",
       "      <td>0.050980</td>\n",
       "      <td>0.011765</td>\n",
       "      <td>0.007843</td>\n",
       "      <td>0.023529</td>\n",
       "      <td>0.062745</td>\n",
       "      <td>0.035294</td>\n",
       "      <td>0.023529</td>\n",
       "      <td>0.015686</td>\n",
       "    </tr>\n",
       "    <tr>\n",
       "      <th>9777</th>\n",
       "      <td>0.823529</td>\n",
       "      <td>0.780392</td>\n",
       "      <td>0.360784</td>\n",
       "      <td>0.431373</td>\n",
       "      <td>0.439216</td>\n",
       "      <td>0.600000</td>\n",
       "      <td>0.749020</td>\n",
       "      <td>0.788235</td>\n",
       "      <td>0.807843</td>\n",
       "      <td>0.807843</td>\n",
       "      <td>...</td>\n",
       "      <td>0.654902</td>\n",
       "      <td>0.435294</td>\n",
       "      <td>0.235294</td>\n",
       "      <td>0.709804</td>\n",
       "      <td>0.698039</td>\n",
       "      <td>0.760784</td>\n",
       "      <td>0.760784</td>\n",
       "      <td>0.741177</td>\n",
       "      <td>0.784314</td>\n",
       "      <td>0.015686</td>\n",
       "    </tr>\n",
       "    <tr>\n",
       "      <th>9778</th>\n",
       "      <td>0.031373</td>\n",
       "      <td>0.035294</td>\n",
       "      <td>0.054902</td>\n",
       "      <td>0.160784</td>\n",
       "      <td>0.298039</td>\n",
       "      <td>0.372549</td>\n",
       "      <td>0.486274</td>\n",
       "      <td>0.580392</td>\n",
       "      <td>0.658824</td>\n",
       "      <td>0.721569</td>\n",
       "      <td>...</td>\n",
       "      <td>0.666667</td>\n",
       "      <td>0.705882</td>\n",
       "      <td>0.666667</td>\n",
       "      <td>0.584314</td>\n",
       "      <td>0.513725</td>\n",
       "      <td>0.380392</td>\n",
       "      <td>0.164706</td>\n",
       "      <td>0.149020</td>\n",
       "      <td>0.129412</td>\n",
       "      <td>0.149020</td>\n",
       "    </tr>\n",
       "    <tr>\n",
       "      <th>9779</th>\n",
       "      <td>0.721569</td>\n",
       "      <td>0.435294</td>\n",
       "      <td>0.254902</td>\n",
       "      <td>0.239216</td>\n",
       "      <td>0.329412</td>\n",
       "      <td>0.470588</td>\n",
       "      <td>0.552941</td>\n",
       "      <td>0.603922</td>\n",
       "      <td>0.615686</td>\n",
       "      <td>0.662745</td>\n",
       "      <td>...</td>\n",
       "      <td>0.721569</td>\n",
       "      <td>0.400000</td>\n",
       "      <td>0.094118</td>\n",
       "      <td>0.027451</td>\n",
       "      <td>0.027451</td>\n",
       "      <td>0.035294</td>\n",
       "      <td>0.039216</td>\n",
       "      <td>0.066667</td>\n",
       "      <td>0.062745</td>\n",
       "      <td>0.086275</td>\n",
       "    </tr>\n",
       "  </tbody>\n",
       "</table>\n",
       "<p>9780 rows × 1024 columns</p>\n",
       "</div>"
      ],
      "text/plain": [
       "             0         1         2         3         4         5         6  \\\n",
       "0     0.913725  0.454902  0.360784  0.619608  0.956863  0.913725  0.874510   \n",
       "1     0.141176  0.133333  0.137255  0.105882  0.086275  0.164706  0.219608   \n",
       "2     0.874510  0.882353  0.874510  0.803922  0.392157  0.796078  0.921569   \n",
       "3     0.313725  0.278431  0.180392  0.196078  0.227451  0.250980  0.423529   \n",
       "4     0.262745  0.207843  0.286275  0.509804  0.639216  0.666667  0.682353   \n",
       "...        ...       ...       ...       ...       ...       ...       ...   \n",
       "9775  0.996078  0.992157  0.988235  0.466667  0.301961  0.223529  0.627451   \n",
       "9776  0.000000  0.003922  0.019608  0.015686  0.015686  0.003922  0.007843   \n",
       "9777  0.823529  0.780392  0.360784  0.431373  0.439216  0.600000  0.749020   \n",
       "9778  0.031373  0.035294  0.054902  0.160784  0.298039  0.372549  0.486274   \n",
       "9779  0.721569  0.435294  0.254902  0.239216  0.329412  0.470588  0.552941   \n",
       "\n",
       "             7         8         9  ...      1014      1015      1016  \\\n",
       "0     0.933333  0.890196  0.905882  ...  0.223529  0.164706  0.082353   \n",
       "1     0.266667  0.349020  0.403922  ...  0.282353  0.117647  0.125490   \n",
       "2     0.945098  0.917647  0.858824  ...  0.619608  0.709804  0.596078   \n",
       "3     0.454902  0.392157  0.313725  ...  0.639216  0.658824  0.682353   \n",
       "4     0.713726  0.737255  0.752941  ...  0.749020  0.721569  0.298039   \n",
       "...        ...       ...       ...  ...       ...       ...       ...   \n",
       "9775  0.698039  0.737255  0.768627  ...  0.329412  0.160784  0.196078   \n",
       "9776  0.043137  0.176471  0.274510  ...  0.725490  0.490196  0.050980   \n",
       "9777  0.788235  0.807843  0.807843  ...  0.654902  0.435294  0.235294   \n",
       "9778  0.580392  0.658824  0.721569  ...  0.666667  0.705882  0.666667   \n",
       "9779  0.603922  0.615686  0.662745  ...  0.721569  0.400000  0.094118   \n",
       "\n",
       "          1017      1018      1019      1020      1021      1022      1023  \n",
       "0     0.066667  0.039216  0.015686  0.023529  0.031373  0.121569  0.274510  \n",
       "1     0.172549  0.211765  0.262745  0.254902  0.262745  0.298039  0.298039  \n",
       "2     0.627451  0.666667  0.654902  0.243137  0.301961  0.258824  0.227451  \n",
       "3     0.713726  0.729412  0.733333  0.752941  0.709804  0.619608  0.235294  \n",
       "4     0.203922  0.294118  0.101961  0.235294  0.411765  0.827451  0.690196  \n",
       "...        ...       ...       ...       ...       ...       ...       ...  \n",
       "9775  0.207843  0.215686  0.215686  0.196078  0.164706  0.164706  0.129412  \n",
       "9776  0.011765  0.007843  0.023529  0.062745  0.035294  0.023529  0.015686  \n",
       "9777  0.709804  0.698039  0.760784  0.760784  0.741177  0.784314  0.015686  \n",
       "9778  0.584314  0.513725  0.380392  0.164706  0.149020  0.129412  0.149020  \n",
       "9779  0.027451  0.027451  0.035294  0.039216  0.066667  0.062745  0.086275  \n",
       "\n",
       "[9780 rows x 1024 columns]"
      ]
     },
     "execution_count": 9,
     "metadata": {},
     "output_type": "execute_result"
    }
   ],
   "source": [
    "df1=pd.read_csv(\"G:/csv_files/UTK_DATASETS_project.csv\")\n",
    "df1"
   ]
  },
  {
   "cell_type": "markdown",
   "id": "52534212",
   "metadata": {},
   "source": [
    "# TAKING AGE AS TARGET VARIABLE"
   ]
  },
  {
   "cell_type": "markdown",
   "id": "c3eab5e4",
   "metadata": {},
   "source": [
    "# MAKING BALANCED DATASETS"
   ]
  },
  {
   "cell_type": "code",
   "execution_count": 10,
   "id": "88e05c1a",
   "metadata": {
    "scrolled": true
   },
   "outputs": [
    {
     "data": {
      "text/plain": [
       "array([5, 0, 1, 2, 3, 4], dtype=int64)"
      ]
     },
     "execution_count": 10,
     "metadata": {},
     "output_type": "execute_result"
    }
   ],
   "source": [
    "df[\"norm_age\"].unique()"
   ]
  },
  {
   "cell_type": "code",
   "execution_count": 11,
   "id": "65ec663c",
   "metadata": {
    "scrolled": true
   },
   "outputs": [
    {
     "data": {
      "text/plain": [
       "0    4164\n",
       "1    2551\n",
       "2    1613\n",
       "3    1035\n",
       "4     412\n",
       "5       5\n",
       "Name: norm_age, dtype: int64"
      ]
     },
     "execution_count": 11,
     "metadata": {},
     "output_type": "execute_result"
    }
   ],
   "source": [
    "df[\"norm_age\"].value_counts()"
   ]
  },
  {
   "cell_type": "code",
   "execution_count": 12,
   "id": "1bd99803",
   "metadata": {},
   "outputs": [
    {
     "data": {
      "text/plain": [
       "Int64Index([0, 1, 2, 143, 144], dtype='int64')"
      ]
     },
     "execution_count": 12,
     "metadata": {},
     "output_type": "execute_result"
    }
   ],
   "source": [
    "deleting_index=df[(df[\"norm_age\"]==5)].index\n",
    "deleting_index"
   ]
  },
  {
   "cell_type": "code",
   "execution_count": 13,
   "id": "c027c875",
   "metadata": {},
   "outputs": [],
   "source": [
    "df1.drop(deleting_index,inplace=True)"
   ]
  },
  {
   "cell_type": "code",
   "execution_count": 14,
   "id": "e2385995",
   "metadata": {},
   "outputs": [],
   "source": [
    "df=df[~(df[\"norm_age\"]==5)]"
   ]
  },
  {
   "cell_type": "code",
   "execution_count": 15,
   "id": "951271f6",
   "metadata": {
    "scrolled": true
   },
   "outputs": [
    {
     "data": {
      "text/plain": [
       "0    4164\n",
       "1    2551\n",
       "2    1613\n",
       "3    1035\n",
       "4     412\n",
       "Name: norm_age, dtype: int64"
      ]
     },
     "execution_count": 15,
     "metadata": {},
     "output_type": "execute_result"
    }
   ],
   "source": [
    "df[\"norm_age\"].value_counts()"
   ]
  },
  {
   "cell_type": "code",
   "execution_count": 16,
   "id": "ba87be8a",
   "metadata": {},
   "outputs": [],
   "source": [
    "smote=SMOTE( sampling_strategy=\"not majority\")"
   ]
  },
  {
   "cell_type": "code",
   "execution_count": 17,
   "id": "3eaca8cf",
   "metadata": {},
   "outputs": [],
   "source": [
    "x_sm,y_sm= smote.fit_resample(df1,df[\"norm_age\"])"
   ]
  },
  {
   "cell_type": "code",
   "execution_count": 18,
   "id": "e84424be",
   "metadata": {},
   "outputs": [
    {
     "data": {
      "text/plain": [
       "0    4164\n",
       "1    4164\n",
       "2    4164\n",
       "3    4164\n",
       "4    4164\n",
       "Name: norm_age, dtype: int64"
      ]
     },
     "execution_count": 18,
     "metadata": {},
     "output_type": "execute_result"
    }
   ],
   "source": [
    "y_sm.value_counts()"
   ]
  },
  {
   "cell_type": "code",
   "execution_count": 19,
   "id": "2ac37abf",
   "metadata": {
    "scrolled": false
   },
   "outputs": [],
   "source": [
    "x_train,x_test,y_train,y_test=train_test_split(x_sm,y_sm,test_size=0.3,random_state=5,stratify=y_sm)"
   ]
  },
  {
   "cell_type": "code",
   "execution_count": 20,
   "id": "820edd23",
   "metadata": {},
   "outputs": [],
   "source": [
    "best_clf=SVC(C=20,kernel=\"linear\")"
   ]
  },
  {
   "cell_type": "code",
   "execution_count": 21,
   "id": "61371bbb",
   "metadata": {},
   "outputs": [
    {
     "data": {
      "text/plain": [
       "SVC(C=20, kernel='linear')"
      ]
     },
     "execution_count": 21,
     "metadata": {},
     "output_type": "execute_result"
    }
   ],
   "source": [
    "best_clf.fit(x_train,y_train)"
   ]
  },
  {
   "cell_type": "code",
   "execution_count": 23,
   "id": "dc811fc0",
   "metadata": {},
   "outputs": [
    {
     "data": {
      "text/plain": [
       "0.9569781803211198"
      ]
     },
     "execution_count": 23,
     "metadata": {},
     "output_type": "execute_result"
    }
   ],
   "source": [
    "best_clf.score(x_train,y_train)"
   ]
  },
  {
   "cell_type": "code",
   "execution_count": 22,
   "id": "de50cd65",
   "metadata": {},
   "outputs": [
    {
     "data": {
      "text/plain": [
       "0.8474223503041947"
      ]
     },
     "execution_count": 22,
     "metadata": {},
     "output_type": "execute_result"
    }
   ],
   "source": [
    "best_clf.score(x_test,y_test)"
   ]
  },
  {
   "cell_type": "code",
   "execution_count": null,
   "id": "2a2fb6d7",
   "metadata": {},
   "outputs": [],
   "source": []
  },
  {
   "cell_type": "code",
   "execution_count": null,
   "id": "f7d6b840",
   "metadata": {},
   "outputs": [],
   "source": []
  },
  {
   "cell_type": "markdown",
   "id": "a9ccfe42",
   "metadata": {},
   "source": [
    "# TAKING GENDER AS VARIABLE"
   ]
  },
  {
   "cell_type": "code",
   "execution_count": 24,
   "id": "17c9c4ef",
   "metadata": {},
   "outputs": [
    {
     "data": {
      "text/plain": [
       "array([0., 1., 3.])"
      ]
     },
     "execution_count": 24,
     "metadata": {},
     "output_type": "execute_result"
    }
   ],
   "source": [
    "df[\"gender\"].unique()"
   ]
  },
  {
   "cell_type": "code",
   "execution_count": 25,
   "id": "d5fffe33",
   "metadata": {},
   "outputs": [
    {
     "data": {
      "text/plain": [
       "1.0    5402\n",
       "0.0    4372\n",
       "3.0       1\n",
       "Name: gender, dtype: int64"
      ]
     },
     "execution_count": 25,
     "metadata": {},
     "output_type": "execute_result"
    }
   ],
   "source": [
    "df[\"gender\"].value_counts()"
   ]
  },
  {
   "cell_type": "code",
   "execution_count": 26,
   "id": "8b6f4de1",
   "metadata": {},
   "outputs": [
    {
     "data": {
      "text/plain": [
       "Int64Index([7884], dtype='int64')"
      ]
     },
     "execution_count": 26,
     "metadata": {},
     "output_type": "execute_result"
    }
   ],
   "source": [
    "df[df[\"gender\"]==3.0].index"
   ]
  },
  {
   "cell_type": "code",
   "execution_count": 27,
   "id": "696b5f3b",
   "metadata": {},
   "outputs": [],
   "source": [
    "df.drop([7884],axis=0,inplace=True)"
   ]
  },
  {
   "cell_type": "code",
   "execution_count": 31,
   "id": "6d82bcbb",
   "metadata": {},
   "outputs": [],
   "source": [
    "df1.drop([7884],axis=0,inplace=True)"
   ]
  },
  {
   "cell_type": "code",
   "execution_count": 32,
   "id": "28b6af78",
   "metadata": {},
   "outputs": [
    {
     "data": {
      "text/plain": [
       "1.0    5402\n",
       "0.0    4372\n",
       "Name: gender, dtype: int64"
      ]
     },
     "execution_count": 32,
     "metadata": {},
     "output_type": "execute_result"
    }
   ],
   "source": [
    "df[\"gender\"].value_counts()"
   ]
  },
  {
   "cell_type": "code",
   "execution_count": 29,
   "id": "a130fdb1",
   "metadata": {},
   "outputs": [],
   "source": [
    "smote=SMOTE( sampling_strategy=\"minority\")"
   ]
  },
  {
   "cell_type": "code",
   "execution_count": 33,
   "id": "5273d997",
   "metadata": {},
   "outputs": [
    {
     "data": {
      "text/plain": [
       "0.0    5402\n",
       "1.0    5402\n",
       "Name: gender, dtype: int64"
      ]
     },
     "execution_count": 33,
     "metadata": {},
     "output_type": "execute_result"
    }
   ],
   "source": [
    "x_sm,y_sm= smote.fit_resample(df1,df[\"gender\"])\n",
    "y_sm.value_counts()"
   ]
  },
  {
   "cell_type": "code",
   "execution_count": 40,
   "id": "27e2b73b",
   "metadata": {},
   "outputs": [],
   "source": [
    "x_train,x_test,y_train,y_test=train_test_split(x_sm,y_sm,test_size=0.3,random_state=5, stratify=y_sm)"
   ]
  },
  {
   "cell_type": "markdown",
   "id": "8362be25",
   "metadata": {},
   "source": [
    "model 1"
   ]
  },
  {
   "cell_type": "code",
   "execution_count": 41,
   "id": "54696504",
   "metadata": {},
   "outputs": [
    {
     "data": {
      "text/plain": [
       "RandomForestClassifier()"
      ]
     },
     "execution_count": 41,
     "metadata": {},
     "output_type": "execute_result"
    }
   ],
   "source": [
    "best_clf_gender=RandomForestClassifier(n_estimators=100)\n",
    "best_clf_gender.fit(x_train,y_train)"
   ]
  },
  {
   "cell_type": "code",
   "execution_count": 42,
   "id": "86a9a577",
   "metadata": {},
   "outputs": [
    {
     "data": {
      "text/plain": [
       "0.9993387992594551"
      ]
     },
     "execution_count": 42,
     "metadata": {},
     "output_type": "execute_result"
    }
   ],
   "source": [
    "best_clf_gender.score(x_train,y_train)"
   ]
  },
  {
   "cell_type": "code",
   "execution_count": 43,
   "id": "8cca0695",
   "metadata": {},
   "outputs": [
    {
     "data": {
      "text/plain": [
       "0.7757557063541024"
      ]
     },
     "execution_count": 43,
     "metadata": {},
     "output_type": "execute_result"
    }
   ],
   "source": [
    "best_clf_gender.score(x_test,y_test)"
   ]
  },
  {
   "cell_type": "markdown",
   "id": "cc1b2b37",
   "metadata": {},
   "source": [
    "model 2"
   ]
  },
  {
   "cell_type": "code",
   "execution_count": 45,
   "id": "360e85dc",
   "metadata": {},
   "outputs": [
    {
     "data": {
      "text/plain": [
       "RandomForestClassifier(n_estimators=1000)"
      ]
     },
     "execution_count": 45,
     "metadata": {},
     "output_type": "execute_result"
    }
   ],
   "source": [
    "best_clf_gender=RandomForestClassifier(n_estimators=1000)\n",
    "best_clf_gender.fit(x_train,y_train)"
   ]
  },
  {
   "cell_type": "code",
   "execution_count": 46,
   "id": "a4123be1",
   "metadata": {},
   "outputs": [
    {
     "data": {
      "text/plain": [
       "0.9993387992594551"
      ]
     },
     "execution_count": 46,
     "metadata": {},
     "output_type": "execute_result"
    }
   ],
   "source": [
    "best_clf_gender.score(x_train,y_train)"
   ]
  },
  {
   "cell_type": "code",
   "execution_count": 47,
   "id": "eea8768e",
   "metadata": {},
   "outputs": [
    {
     "data": {
      "text/plain": [
       "0.784083898827884"
      ]
     },
     "execution_count": 47,
     "metadata": {},
     "output_type": "execute_result"
    }
   ],
   "source": [
    "best_clf_gender.score(x_test,y_test)"
   ]
  },
  {
   "cell_type": "markdown",
   "id": "68f9c946",
   "metadata": {},
   "source": [
    "model 3"
   ]
  },
  {
   "cell_type": "code",
   "execution_count": 48,
   "id": "a5d1f439",
   "metadata": {},
   "outputs": [
    {
     "data": {
      "text/plain": [
       "SVC(C=20, kernel='linear')"
      ]
     },
     "execution_count": 48,
     "metadata": {},
     "output_type": "execute_result"
    }
   ],
   "source": [
    "best_clf_gender3=SVC(C=20,kernel=\"linear\")\n",
    "best_clf_gender3.fit(x_train,y_train)"
   ]
  },
  {
   "cell_type": "code",
   "execution_count": 49,
   "id": "01ce6471",
   "metadata": {},
   "outputs": [
    {
     "data": {
      "text/plain": [
       "0.8680243321872521"
      ]
     },
     "execution_count": 49,
     "metadata": {},
     "output_type": "execute_result"
    }
   ],
   "source": [
    "best_clf_gender3.score(x_train,y_train)"
   ]
  },
  {
   "cell_type": "code",
   "execution_count": 50,
   "id": "0f5c5ebe",
   "metadata": {},
   "outputs": [
    {
     "data": {
      "text/plain": [
       "0.7714373843306601"
      ]
     },
     "execution_count": 50,
     "metadata": {},
     "output_type": "execute_result"
    }
   ],
   "source": [
    "best_clf_gender3.score(x_test,y_test)"
   ]
  },
  {
   "cell_type": "markdown",
   "id": "bed01d5b",
   "metadata": {},
   "source": [
    "#chosing RandomForestClassifier(n_estimators=1000) as best model"
   ]
  },
  {
   "cell_type": "markdown",
   "id": "e74e6176",
   "metadata": {},
   "source": [
    "#  you can hyper tune your model with dofferent params and different algorithms and can get better results"
   ]
  },
  {
   "cell_type": "code",
   "execution_count": 60,
   "id": "765aca0f",
   "metadata": {},
   "outputs": [
    {
     "data": {
      "text/plain": [
       "['UTK_DATASETS_gender_MODEL.pkl']"
      ]
     },
     "execution_count": 60,
     "metadata": {},
     "output_type": "execute_result"
    }
   ],
   "source": [
    "# saving the model \n",
    "filename1 = 'UTK_DATASETS_age_MODEL.pkl'\n",
    "filename2 = 'UTK_DATASETS_gender_MODEL.pkl'\n",
    "joblib.dump(best_clf, filename1)\n",
    "joblib.dump(best_clf_gender, filename2)"
   ]
  },
  {
   "cell_type": "code",
   "execution_count": null,
   "id": "4745d9a0",
   "metadata": {},
   "outputs": [],
   "source": []
  },
  {
   "cell_type": "markdown",
   "id": "2cacafe0",
   "metadata": {},
   "source": [
    "# you can diretly jump here and work on the model"
   ]
  },
  {
   "cell_type": "code",
   "execution_count": 2,
   "id": "24c1c3d4",
   "metadata": {},
   "outputs": [],
   "source": [
    "age_predictor=joblib.load(\"G:/jupyter notebook/UTK_DATASETS_age_MODEL.pkl\")\n",
    "gender_predictor=joblib.load(\"G:/jupyter notebook/UTK_DATASETS_gender_MODEL.pkl\")"
   ]
  },
  {
   "cell_type": "markdown",
   "id": "37afd405",
   "metadata": {},
   "source": [
    "give the file path as input (better give single face photo)"
   ]
  },
  {
   "cell_type": "code",
   "execution_count": 71,
   "id": "b4bdf407",
   "metadata": {},
   "outputs": [],
   "source": [
    "face_cascade = cv.CascadeClassifier('C:/Users/Hariharan.M/AppData/Roaming/Python/Python310/site-packages/cv2/data/haarcascade_frontalface_default.xml')\n",
    "eye_cascade = cv.CascadeClassifier('C:/Users/Hariharan.M/AppData/Roaming/Python/Python310/site-packages/cv2/data/haarcascade_eye.xml')\n",
    "\n",
    "dic={0:\"0-20\",1:\"20-40\",2:\"40-60\",3:\"60-80\",4:\"80-100\",5:\"100-120\"}   #for age purpose\n",
    "d={\"[0.]\":\"male\",\"[1.]\":\"female\"}   # for gender purpose"
   ]
  },
  {
   "cell_type": "code",
   "execution_count": 117,
   "id": "554c1a95",
   "metadata": {},
   "outputs": [],
   "source": [
    "def age_sex_predictor(string):\n",
    "    frame=cv.imread(string)\n",
    "    gray=cv.cvtColor(frame,cv.COLOR_BGR2GRAY)\n",
    "    faces = face_cascade.detectMultiScale(gray, 1.3, 2)\n",
    "    for i in faces:\n",
    "        try:\n",
    "            x,y,w,h=faces[i]\n",
    "            break\n",
    "        except:\n",
    "             pass\n",
    "    else:\n",
    "        print(\"cannot find you face\")\n",
    "        return\n",
    "    rectangle_img = cv.rectangle(gray,(x,y),(x+w,y+h),(255,0,0),2) \n",
    "    face_img=frame[y:y+h,x:x+w]\n",
    "    gray=cv.cvtColor(face_img,cv.COLOR_BGR2GRAY)\n",
    "    gray=cv.resize(gray,(32,32))\n",
    "    reshape_face=gray.reshape(1,32*32)\n",
    "    arr = reshape_face.astype('float32')\n",
    "    arr /= 255\n",
    "    gender_predict=gender_predictor.predict(arr)\n",
    "    gender_predict=str(gender_predict)\n",
    "    age_predict=age_predictor.predict(arr)\n",
    "    age_predict=age_predict[0]\n",
    "    print(\"hey!,there you are \",d[gender_predict])\n",
    "    print(\"your age is \",dic[age_predict])\n",
    "    return face_img"
   ]
  },
  {
   "cell_type": "code",
   "execution_count": 93,
   "id": "0b86ec2c",
   "metadata": {
    "scrolled": true
   },
   "outputs": [
    {
     "name": "stderr",
     "output_type": "stream",
     "text": [
      "C:\\Users\\Hariharan.M\\AppData\\Roaming\\Python\\Python310\\site-packages\\sklearn\\base.py:450: UserWarning: X does not have valid feature names, but RandomForestClassifier was fitted with feature names\n",
      "  warnings.warn(\n",
      "C:\\Users\\Hariharan.M\\AppData\\Roaming\\Python\\Python310\\site-packages\\sklearn\\base.py:450: UserWarning: X does not have valid feature names, but SVC was fitted with feature names\n",
      "  warnings.warn(\n"
     ]
    },
    {
     "name": "stdout",
     "output_type": "stream",
     "text": [
      "hey!,there you are  female\n",
      "your age is  40-60\n"
     ]
    }
   ],
   "source": [
    "# give the file path as string\n",
    "string=\"\" #please give the file path    \n",
    "age_sex_predictor(string)"
   ]
  },
  {
   "cell_type": "code",
   "execution_count": 95,
   "id": "b66b3a1e",
   "metadata": {},
   "outputs": [],
   "source": [
    "import matplotlib.pyplot as plt"
   ]
  },
  {
   "cell_type": "code",
   "execution_count": 118,
   "id": "65f2fc1b",
   "metadata": {
    "scrolled": false
   },
   "outputs": [
    {
     "name": "stdout",
     "output_type": "stream",
     "text": [
      "cannot find you face\n"
     ]
    }
   ],
   "source": [
    "# give the file path as string\n",
    "hhh=age_sex_predictor(\"G:/UTKFace/100_0_0_20170112215240346.jpg.chip.jpg\")\n",
    "# plt.imshow(hhh)"
   ]
  },
  {
   "cell_type": "code",
   "execution_count": null,
   "id": "ac203f2a",
   "metadata": {},
   "outputs": [],
   "source": []
  },
  {
   "cell_type": "code",
   "execution_count": null,
   "id": "1175f945",
   "metadata": {},
   "outputs": [],
   "source": []
  },
  {
   "cell_type": "code",
   "execution_count": null,
   "id": "f62351b4",
   "metadata": {},
   "outputs": [],
   "source": []
  },
  {
   "cell_type": "markdown",
   "id": "1e3885fe",
   "metadata": {},
   "source": [
    "# USING WEBCAM"
   ]
  },
  {
   "cell_type": "code",
   "execution_count": 10,
   "id": "658faf2b",
   "metadata": {},
   "outputs": [],
   "source": [
    "import warnings\n",
    "warnings.simplefilter(\"ignore\", UserWarning)"
   ]
  },
  {
   "cell_type": "code",
   "execution_count": 3,
   "id": "a96ba914",
   "metadata": {},
   "outputs": [],
   "source": [
    "face_cascade = cv.CascadeClassifier('C:/Users/Hariharan.M/AppData/Roaming/Python/Python310/site-packages/cv2/data/haarcascade_frontalface_default.xml')\n",
    "eye_cascade = cv.CascadeClassifier('C:/Users/Hariharan.M/AppData/Roaming/Python/Python310/site-packages/cv2/data/haarcascade_eye.xml')\n",
    "\n",
    "dic={0:\"0-20\",1:\"20-40\",2:\"40-60\",3:\"60-80\",4:\"80-100\",5:\"100-120\"}"
   ]
  },
  {
   "cell_type": "code",
   "execution_count": 11,
   "id": "613475d6",
   "metadata": {},
   "outputs": [],
   "source": [
    "cap=cv.VideoCapture(0)\n",
    "i=0\n",
    "while True:\n",
    "    ret,frame=cap.read()\n",
    "    gray=cv.cvtColor(frame,cv.COLOR_BGR2GRAY)\n",
    "    faces = face_cascade.detectMultiScale(gray, 1.3, 2)\n",
    "    try:\n",
    "        x,y,w,h=faces[0]\n",
    "    except:\n",
    "        cv.imshow(\"age&gender_detector\",frame)\n",
    "        if cv.waitKey(1)==ord(\"q\"):\n",
    "            break\n",
    "        continue\n",
    "    rectangle_img = cv.rectangle(frame,(x,y),(x+w,y+h),(255,0,0),2) \n",
    "    face_img=frame[y:y+h,x:x+w]\n",
    "    gray=cv.cvtColor(face_img,cv.COLOR_BGR2GRAY)\n",
    "    gray=cv.resize(gray,(32,32))\n",
    "    reshape_face=gray.reshape(1,32*32)\n",
    "    arr = reshape_face.astype('float32')\n",
    "    arr /= 255\n",
    "    gender=gender_predictor.predict(arr)\n",
    "    gender=str(gender)\n",
    "    your_age=age_predictor.predict(arr)\n",
    "    your_age=your_age[0]\n",
    "    if gender==\"[0.]\":\n",
    "        txt_img=cv.putText( rectangle_img,f\"you are male {dic[your_age]}\",(x,y),cv.FONT_HERSHEY_PLAIN,1.0,(0,255,0),thickness=2)\n",
    "    else:\n",
    "        txt_img=cv.putText( rectangle_img,f\"you are female {dic[your_age]}\",(x,y),cv.FONT_HERSHEY_PLAIN,1.0,(0,255,0),thickness=2)\n",
    "    cv.imshow(\"age&gender_detector\", txt_img)\n",
    "    if cv.waitKey(1)==ord(\"q\"):\n",
    "        break\n",
    "cap.release() \n",
    "cv.destroyAllWindows()\n"
   ]
  },
  {
   "cell_type": "code",
   "execution_count": null,
   "id": "998bcfb8",
   "metadata": {},
   "outputs": [],
   "source": []
  }
 ],
 "metadata": {
  "kernelspec": {
   "display_name": "pandas_venv",
   "language": "python",
   "name": "pandas_venv"
  },
  "language_info": {
   "codemirror_mode": {
    "name": "ipython",
    "version": 3
   },
   "file_extension": ".py",
   "mimetype": "text/x-python",
   "name": "python",
   "nbconvert_exporter": "python",
   "pygments_lexer": "ipython3",
   "version": "3.10.1"
  }
 },
 "nbformat": 4,
 "nbformat_minor": 5
}
