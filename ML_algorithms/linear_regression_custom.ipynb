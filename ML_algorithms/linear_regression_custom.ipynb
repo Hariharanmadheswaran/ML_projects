{
 "cells": [
  {
   "cell_type": "code",
   "execution_count": 176,
   "id": "b032a311",
   "metadata": {},
   "outputs": [],
   "source": [
    "import pandas as pd\n",
    "from sklearn.linear_model import LinearRegression\n",
    "from sklearn.model_selection import train_test_split\n",
    "import numpy as np"
   ]
  },
  {
   "cell_type": "code",
   "execution_count": 177,
   "id": "c21710f9",
   "metadata": {
    "scrolled": true
   },
   "outputs": [
    {
     "data": {
      "text/html": [
       "<div>\n",
       "<style scoped>\n",
       "    .dataframe tbody tr th:only-of-type {\n",
       "        vertical-align: middle;\n",
       "    }\n",
       "\n",
       "    .dataframe tbody tr th {\n",
       "        vertical-align: top;\n",
       "    }\n",
       "\n",
       "    .dataframe thead th {\n",
       "        text-align: right;\n",
       "    }\n",
       "</style>\n",
       "<table border=\"1\" class=\"dataframe\">\n",
       "  <thead>\n",
       "    <tr style=\"text-align: right;\">\n",
       "      <th></th>\n",
       "      <th>area</th>\n",
       "      <th>prices</th>\n",
       "    </tr>\n",
       "  </thead>\n",
       "  <tbody>\n",
       "    <tr>\n",
       "      <th>0</th>\n",
       "      <td>1000</td>\n",
       "      <td>3.164041e+05</td>\n",
       "    </tr>\n",
       "    <tr>\n",
       "      <th>1</th>\n",
       "      <td>1500</td>\n",
       "      <td>3.842979e+05</td>\n",
       "    </tr>\n",
       "    <tr>\n",
       "      <th>2</th>\n",
       "      <td>2300</td>\n",
       "      <td>4.929281e+05</td>\n",
       "    </tr>\n",
       "    <tr>\n",
       "      <th>3</th>\n",
       "      <td>3540</td>\n",
       "      <td>6.613048e+05</td>\n",
       "    </tr>\n",
       "    <tr>\n",
       "      <th>4</th>\n",
       "      <td>4120</td>\n",
       "      <td>7.400616e+05</td>\n",
       "    </tr>\n",
       "    <tr>\n",
       "      <th>5</th>\n",
       "      <td>4560</td>\n",
       "      <td>7.998082e+05</td>\n",
       "    </tr>\n",
       "    <tr>\n",
       "      <th>6</th>\n",
       "      <td>5490</td>\n",
       "      <td>9.260908e+05</td>\n",
       "    </tr>\n",
       "    <tr>\n",
       "      <th>7</th>\n",
       "      <td>3460</td>\n",
       "      <td>6.504418e+05</td>\n",
       "    </tr>\n",
       "    <tr>\n",
       "      <th>8</th>\n",
       "      <td>4750</td>\n",
       "      <td>8.256079e+05</td>\n",
       "    </tr>\n",
       "    <tr>\n",
       "      <th>9</th>\n",
       "      <td>2300</td>\n",
       "      <td>4.929281e+05</td>\n",
       "    </tr>\n",
       "    <tr>\n",
       "      <th>10</th>\n",
       "      <td>9000</td>\n",
       "      <td>1.402705e+06</td>\n",
       "    </tr>\n",
       "    <tr>\n",
       "      <th>11</th>\n",
       "      <td>8600</td>\n",
       "      <td>1.348390e+06</td>\n",
       "    </tr>\n",
       "    <tr>\n",
       "      <th>12</th>\n",
       "      <td>7100</td>\n",
       "      <td>1.144709e+06</td>\n",
       "    </tr>\n",
       "  </tbody>\n",
       "</table>\n",
       "</div>"
      ],
      "text/plain": [
       "    area        prices\n",
       "0   1000  3.164041e+05\n",
       "1   1500  3.842979e+05\n",
       "2   2300  4.929281e+05\n",
       "3   3540  6.613048e+05\n",
       "4   4120  7.400616e+05\n",
       "5   4560  7.998082e+05\n",
       "6   5490  9.260908e+05\n",
       "7   3460  6.504418e+05\n",
       "8   4750  8.256079e+05\n",
       "9   2300  4.929281e+05\n",
       "10  9000  1.402705e+06\n",
       "11  8600  1.348390e+06\n",
       "12  7100  1.144709e+06"
      ]
     },
     "execution_count": 177,
     "metadata": {},
     "output_type": "execute_result"
    }
   ],
   "source": [
    "df=pd.read_csv(\"G:/csv_files/linear_regression_prediction.csv\", usecols=[\"area\",\"prices\"])\n",
    "df"
   ]
  },
  {
   "cell_type": "code",
   "execution_count": 179,
   "id": "1e2adb9c",
   "metadata": {},
   "outputs": [
    {
     "data": {
      "text/plain": [
       "LinearRegression()"
      ]
     },
     "execution_count": 179,
     "metadata": {},
     "output_type": "execute_result"
    }
   ],
   "source": [
    "lg_model=LinearRegression()\n",
    "lg_model.fit(df[[\"area\"]],df[\"prices\"])"
   ]
  },
  {
   "cell_type": "code",
   "execution_count": 180,
   "id": "b40f167c",
   "metadata": {},
   "outputs": [
    {
     "name": "stdout",
     "output_type": "stream",
     "text": [
      "the equation is : y=[135.78767123]x + 180616.4383561645\n"
     ]
    }
   ],
   "source": [
    "m=lg_model.coef_\n",
    "b=lg_model.intercept_\n",
    "print(f\"the equation is : y={m}x + {b}\")"
   ]
  },
  {
   "cell_type": "code",
   "execution_count": 181,
   "id": "5120cd58",
   "metadata": {},
   "outputs": [
    {
     "name": "stderr",
     "output_type": "stream",
     "text": [
      "C:\\Users\\Hariharan.M\\AppData\\Roaming\\Python\\Python310\\site-packages\\sklearn\\base.py:450: UserWarning: X does not have valid feature names, but LinearRegression was fitted with feature names\n",
      "  warnings.warn(\n"
     ]
    },
    {
     "data": {
      "text/plain": [
       "array([926090.75342466])"
      ]
     },
     "execution_count": 181,
     "metadata": {},
     "output_type": "execute_result"
    }
   ],
   "source": [
    "lg_model.predict([[5490]])"
   ]
  },
  {
   "cell_type": "markdown",
   "id": "f98e63e7",
   "metadata": {},
   "source": [
    "# lets do it in scratch"
   ]
  },
  {
   "cell_type": "markdown",
   "id": "89b7011c",
   "metadata": {},
   "source": [
    "# this model takes only one inputs"
   ]
  },
  {
   "cell_type": "code",
   "execution_count": null,
   "id": "2a826807",
   "metadata": {},
   "outputs": [],
   "source": []
  },
  {
   "cell_type": "code",
   "execution_count": null,
   "id": "fb895ebd",
   "metadata": {},
   "outputs": [],
   "source": []
  },
  {
   "cell_type": "code",
   "execution_count": 182,
   "id": "02803261",
   "metadata": {},
   "outputs": [],
   "source": [
    "class Linear_Regression1():\n",
    "    def __init__(self):\n",
    "        self.m=0\n",
    "        self.b=0\n",
    "        self.learning_rate=0.001\n",
    "        self.iteration =100000\n",
    "    def fit(self,x,target):  \n",
    "        max1=x.max()\n",
    "        x=np.array(x/max1)          #normalising the x_values beacuse if not error happened so\n",
    "        target=np.array(target)\n",
    "        for i in range(self.iteration):\n",
    "            y_predict=self.m*x+self.b\n",
    "            md=-(2/len(x))*np.sum(x*(target-y_predict)) \n",
    "            bd=-(2/len(x))*np.sum(target-y_predict)   \n",
    "            self.m=self.m-self.learning_rate*md\n",
    "            self.b=self.b-self.learning_rate*bd\n",
    "        self.m=self.m/max1\n",
    "#             print(self.m,self.b)\n",
    "#             break\n",
    "#             self.cost=(1/len(x))*np.sum((target-y_predict)**2)        \n",
    "    def predict(self,value):\n",
    "        print(self.m*(value) +self.b)\n",
    "    def show_equation(self):\n",
    "        print(f\"the equation is y={self.m}*x + {self.b}\")\n",
    "\n",
    "#     print(self.cost)\n",
    "#     print(f\"y={weight}x{bias}\")\n",
    "#     print(\"number of iteration is :\",i)"
   ]
  },
  {
   "cell_type": "code",
   "execution_count": 183,
   "id": "815dd297",
   "metadata": {},
   "outputs": [],
   "source": [
    "cust_model=Linear_Regression1()"
   ]
  },
  {
   "cell_type": "code",
   "execution_count": 184,
   "id": "44f245ae",
   "metadata": {},
   "outputs": [],
   "source": [
    "x=np.array(df[\"area\"])\n",
    "target=np.array(df[\"prices\"])"
   ]
  },
  {
   "cell_type": "code",
   "execution_count": 185,
   "id": "d3cb2ae3",
   "metadata": {
    "scrolled": true
   },
   "outputs": [],
   "source": [
    "cust_model.fit(x,target)"
   ]
  },
  {
   "cell_type": "code",
   "execution_count": 186,
   "id": "fc6da0a7",
   "metadata": {},
   "outputs": [
    {
     "name": "stdout",
     "output_type": "stream",
     "text": [
      "926090.1580560398\n"
     ]
    }
   ],
   "source": [
    "cust_model.predict(5490)"
   ]
  },
  {
   "cell_type": "code",
   "execution_count": 187,
   "id": "5e13b469",
   "metadata": {},
   "outputs": [
    {
     "name": "stdout",
     "output_type": "stream",
     "text": [
      "the equation is y=135.78690075811514*x + 180620.07289398782\n"
     ]
    }
   ],
   "source": [
    "cust_model.show_equation()"
   ]
  },
  {
   "cell_type": "code",
   "execution_count": null,
   "id": "5283d0e3",
   "metadata": {},
   "outputs": [],
   "source": []
  },
  {
   "cell_type": "code",
   "execution_count": null,
   "id": "137b232e",
   "metadata": {},
   "outputs": [],
   "source": []
  },
  {
   "cell_type": "markdown",
   "id": "4b4948f9",
   "metadata": {},
   "source": [
    "# considering two input variable"
   ]
  },
  {
   "cell_type": "code",
   "execution_count": 188,
   "id": "817f8879",
   "metadata": {},
   "outputs": [],
   "source": [
    "df=pd.read_csv(\"G:\\csv_files/multi_linear_regression.csv\")"
   ]
  },
  {
   "cell_type": "code",
   "execution_count": 189,
   "id": "763f574c",
   "metadata": {},
   "outputs": [],
   "source": [
    "df=df.drop(\"bedrooms\",axis=1)"
   ]
  },
  {
   "cell_type": "code",
   "execution_count": 190,
   "id": "5ca1c496",
   "metadata": {},
   "outputs": [
    {
     "data": {
      "text/html": [
       "<div>\n",
       "<style scoped>\n",
       "    .dataframe tbody tr th:only-of-type {\n",
       "        vertical-align: middle;\n",
       "    }\n",
       "\n",
       "    .dataframe tbody tr th {\n",
       "        vertical-align: top;\n",
       "    }\n",
       "\n",
       "    .dataframe thead th {\n",
       "        text-align: right;\n",
       "    }\n",
       "</style>\n",
       "<table border=\"1\" class=\"dataframe\">\n",
       "  <thead>\n",
       "    <tr style=\"text-align: right;\">\n",
       "      <th></th>\n",
       "      <th>area</th>\n",
       "      <th>age</th>\n",
       "      <th>price</th>\n",
       "    </tr>\n",
       "  </thead>\n",
       "  <tbody>\n",
       "    <tr>\n",
       "      <th>0</th>\n",
       "      <td>2600</td>\n",
       "      <td>20</td>\n",
       "      <td>550000</td>\n",
       "    </tr>\n",
       "    <tr>\n",
       "      <th>1</th>\n",
       "      <td>3000</td>\n",
       "      <td>15</td>\n",
       "      <td>565000</td>\n",
       "    </tr>\n",
       "    <tr>\n",
       "      <th>2</th>\n",
       "      <td>3200</td>\n",
       "      <td>18</td>\n",
       "      <td>610000</td>\n",
       "    </tr>\n",
       "    <tr>\n",
       "      <th>3</th>\n",
       "      <td>3600</td>\n",
       "      <td>30</td>\n",
       "      <td>595000</td>\n",
       "    </tr>\n",
       "    <tr>\n",
       "      <th>4</th>\n",
       "      <td>4000</td>\n",
       "      <td>8</td>\n",
       "      <td>760000</td>\n",
       "    </tr>\n",
       "    <tr>\n",
       "      <th>5</th>\n",
       "      <td>4100</td>\n",
       "      <td>8</td>\n",
       "      <td>810000</td>\n",
       "    </tr>\n",
       "  </tbody>\n",
       "</table>\n",
       "</div>"
      ],
      "text/plain": [
       "   area  age   price\n",
       "0  2600   20  550000\n",
       "1  3000   15  565000\n",
       "2  3200   18  610000\n",
       "3  3600   30  595000\n",
       "4  4000    8  760000\n",
       "5  4100    8  810000"
      ]
     },
     "execution_count": 190,
     "metadata": {},
     "output_type": "execute_result"
    }
   ],
   "source": [
    "df"
   ]
  },
  {
   "cell_type": "code",
   "execution_count": 191,
   "id": "bd33f7e7",
   "metadata": {},
   "outputs": [
    {
     "data": {
      "text/plain": [
       "LinearRegression()"
      ]
     },
     "execution_count": 191,
     "metadata": {},
     "output_type": "execute_result"
    }
   ],
   "source": [
    "sklearn_model2=LinearRegression()\n",
    "sklearn_model2.fit(df[[\"area\",\"age\"]],df[\"price\"])"
   ]
  },
  {
   "cell_type": "code",
   "execution_count": 194,
   "id": "eff8e986",
   "metadata": {},
   "outputs": [
    {
     "name": "stdout",
     "output_type": "stream",
     "text": [
      "m1: 133.0085511387511 m2: -5463.9220382665235 intercept: 284042.1639073314\n"
     ]
    }
   ],
   "source": [
    "m1,m2=sklearn_model2.coef_\n",
    "b=sklearn_model2.intercept_\n",
    "print(\"m1:\",m1,\"m2:\",m2,\"intercept:\",b)"
   ]
  },
  {
   "cell_type": "code",
   "execution_count": 192,
   "id": "9e18501a",
   "metadata": {},
   "outputs": [
    {
     "name": "stderr",
     "output_type": "stream",
     "text": [
      "C:\\Users\\Hariharan.M\\AppData\\Roaming\\Python\\Python310\\site-packages\\sklearn\\base.py:450: UserWarning: X does not have valid feature names, but LinearRegression was fitted with feature names\n",
      "  warnings.warn(\n"
     ]
    },
    {
     "data": {
      "text/plain": [
       "array([598955.28685884])"
      ]
     },
     "execution_count": 192,
     "metadata": {},
     "output_type": "execute_result"
    }
   ],
   "source": [
    "sklearn_model2.predict([[3600,30]])"
   ]
  },
  {
   "cell_type": "code",
   "execution_count": 193,
   "id": "f200cf00",
   "metadata": {},
   "outputs": [
    {
     "data": {
      "text/plain": [
       "598955.2868588397"
      ]
     },
     "execution_count": 193,
     "metadata": {},
     "output_type": "execute_result"
    }
   ],
   "source": [
    "y=133.0085511387511*3600+-5463.9220382665235*30+284042.1639073314\n",
    "y"
   ]
  },
  {
   "cell_type": "code",
   "execution_count": null,
   "id": "517b356b",
   "metadata": {},
   "outputs": [],
   "source": []
  },
  {
   "cell_type": "code",
   "execution_count": null,
   "id": "d41aa8b0",
   "metadata": {},
   "outputs": [],
   "source": []
  },
  {
   "cell_type": "code",
   "execution_count": null,
   "id": "f8857c0d",
   "metadata": {},
   "outputs": [],
   "source": []
  },
  {
   "cell_type": "markdown",
   "id": "85905ec6",
   "metadata": {},
   "source": [
    "# lets do it from scratch"
   ]
  },
  {
   "cell_type": "code",
   "execution_count": 195,
   "id": "6d965501",
   "metadata": {},
   "outputs": [
    {
     "data": {
      "text/html": [
       "<div>\n",
       "<style scoped>\n",
       "    .dataframe tbody tr th:only-of-type {\n",
       "        vertical-align: middle;\n",
       "    }\n",
       "\n",
       "    .dataframe tbody tr th {\n",
       "        vertical-align: top;\n",
       "    }\n",
       "\n",
       "    .dataframe thead th {\n",
       "        text-align: right;\n",
       "    }\n",
       "</style>\n",
       "<table border=\"1\" class=\"dataframe\">\n",
       "  <thead>\n",
       "    <tr style=\"text-align: right;\">\n",
       "      <th></th>\n",
       "      <th>area</th>\n",
       "      <th>age</th>\n",
       "      <th>price</th>\n",
       "    </tr>\n",
       "  </thead>\n",
       "  <tbody>\n",
       "    <tr>\n",
       "      <th>0</th>\n",
       "      <td>2600</td>\n",
       "      <td>20</td>\n",
       "      <td>550000</td>\n",
       "    </tr>\n",
       "    <tr>\n",
       "      <th>1</th>\n",
       "      <td>3000</td>\n",
       "      <td>15</td>\n",
       "      <td>565000</td>\n",
       "    </tr>\n",
       "    <tr>\n",
       "      <th>2</th>\n",
       "      <td>3200</td>\n",
       "      <td>18</td>\n",
       "      <td>610000</td>\n",
       "    </tr>\n",
       "    <tr>\n",
       "      <th>3</th>\n",
       "      <td>3600</td>\n",
       "      <td>30</td>\n",
       "      <td>595000</td>\n",
       "    </tr>\n",
       "    <tr>\n",
       "      <th>4</th>\n",
       "      <td>4000</td>\n",
       "      <td>8</td>\n",
       "      <td>760000</td>\n",
       "    </tr>\n",
       "    <tr>\n",
       "      <th>5</th>\n",
       "      <td>4100</td>\n",
       "      <td>8</td>\n",
       "      <td>810000</td>\n",
       "    </tr>\n",
       "  </tbody>\n",
       "</table>\n",
       "</div>"
      ],
      "text/plain": [
       "   area  age   price\n",
       "0  2600   20  550000\n",
       "1  3000   15  565000\n",
       "2  3200   18  610000\n",
       "3  3600   30  595000\n",
       "4  4000    8  760000\n",
       "5  4100    8  810000"
      ]
     },
     "execution_count": 195,
     "metadata": {},
     "output_type": "execute_result"
    }
   ],
   "source": [
    "df"
   ]
  },
  {
   "cell_type": "code",
   "execution_count": 201,
   "id": "7aa9150d",
   "metadata": {},
   "outputs": [],
   "source": [
    "class Linear_Regression2():\n",
    "    def __init__(self):\n",
    "        self.m1=0\n",
    "        self.m2=0\n",
    "        self.b=0\n",
    "        self.learning_rate=0.001\n",
    "        self.iteration =1000000\n",
    "    def fit(self,x1,x2,target):    #normalising the x_values beacuse if not error happened so\n",
    "        max1=x1.max()\n",
    "        max2=x2.max()\n",
    "        x1=np.array(x1/max1)  \n",
    "        x2=np.array(x2/max2)\n",
    "        target=np.array(target)\n",
    "        \n",
    "        for i in range(self.iteration):\n",
    "            y_predict=self.m1*x1+self.m2*x2 +self.b\n",
    "            \n",
    "            dm1=-(2/len(x1))*np.sum(x1*(target-y_predict)) \n",
    "            \n",
    "            dm2=-(2/len(x2))*np.sum(x2*(target-y_predict))\n",
    "            \n",
    "            bd=-(2/len(x1))*np.sum(target-y_predict)   \n",
    "            \n",
    "            self.m1=self.m1-self.learning_rate*dm1\n",
    "            self.m2=self.m2-self.learning_rate*dm2\n",
    "            self.b=self.b-self.learning_rate*bd\n",
    "        self.m1= self.m1/max1\n",
    "        self.m2=self.m2/max2\n",
    "#             self.cost=(1/len(x))*np.sum((target-y_predict)**2)        \n",
    "    def predict(self,value=[0,0]):\n",
    "        print(self.m1*(value[0])+self.m2*(value[1]) +self.b)\n",
    "    def show_equation(self):\n",
    "        print(f\"the equation is y= {self.m1} * x1 + {self.m2} * x2+ {self.b}\")\n"
   ]
  },
  {
   "cell_type": "code",
   "execution_count": 202,
   "id": "0a0f7021",
   "metadata": {},
   "outputs": [],
   "source": [
    "my_model=Linear_Regression2()"
   ]
  },
  {
   "cell_type": "code",
   "execution_count": 203,
   "id": "80eb9f7a",
   "metadata": {},
   "outputs": [],
   "source": [
    "my_model.fit(df[\"area\"],df[\"age\"],df[\"price\"])"
   ]
  },
  {
   "cell_type": "code",
   "execution_count": 204,
   "id": "74f53d50",
   "metadata": {},
   "outputs": [
    {
     "name": "stdout",
     "output_type": "stream",
     "text": [
      "the equation is y= 133.00851553495997 * x1 + -5463.923615491968 * x2+ 284042.3125726289\n"
     ]
    }
   ],
   "source": [
    "my_model.show_equation()"
   ]
  },
  {
   "cell_type": "code",
   "execution_count": 205,
   "id": "49c2c023",
   "metadata": {},
   "outputs": [
    {
     "name": "stdout",
     "output_type": "stream",
     "text": [
      "598955.2600337258\n"
     ]
    }
   ],
   "source": [
    "my_model.predict([3600,30])          # 598955.286858839 answer got from sklearn_package linear regression"
   ]
  },
  {
   "cell_type": "code",
   "execution_count": null,
   "id": "95d7e3bf",
   "metadata": {},
   "outputs": [],
   "source": []
  }
 ],
 "metadata": {
  "kernelspec": {
   "display_name": "Python 3 (ipykernel)",
   "language": "python",
   "name": "python3"
  },
  "language_info": {
   "codemirror_mode": {
    "name": "ipython",
    "version": 3
   },
   "file_extension": ".py",
   "mimetype": "text/x-python",
   "name": "python",
   "nbconvert_exporter": "python",
   "pygments_lexer": "ipython3",
   "version": "3.10.1"
  }
 },
 "nbformat": 4,
 "nbformat_minor": 5
}
