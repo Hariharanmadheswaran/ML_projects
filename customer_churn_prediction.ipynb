{
 "cells": [
  {
   "cell_type": "code",
   "execution_count": 1,
   "id": "0eae3cc0",
   "metadata": {},
   "outputs": [],
   "source": [
    "# importing neccesary packages\n",
    "import pandas as pd\n",
    "import numpy as np\n",
    "import matplotlib.pyplot as plt\n",
    "import seaborn as sns\n",
    "from sklearn.model_selection import train_test_split\n",
    "from sklearn.linear_model import LogisticRegression\n",
    "from sklearn.metrics import confusion_matrix,classification_report\n",
    "from sklearn.preprocessing import StandardScaler\n",
    "from imblearn.over_sampling import SMOTE"
   ]
  },
  {
   "cell_type": "code",
   "execution_count": 2,
   "id": "73e5584d",
   "metadata": {},
   "outputs": [
    {
     "data": {
      "text/html": [
       "<div>\n",
       "<style scoped>\n",
       "    .dataframe tbody tr th:only-of-type {\n",
       "        vertical-align: middle;\n",
       "    }\n",
       "\n",
       "    .dataframe tbody tr th {\n",
       "        vertical-align: top;\n",
       "    }\n",
       "\n",
       "    .dataframe thead th {\n",
       "        text-align: right;\n",
       "    }\n",
       "</style>\n",
       "<table border=\"1\" class=\"dataframe\">\n",
       "  <thead>\n",
       "    <tr style=\"text-align: right;\">\n",
       "      <th></th>\n",
       "      <th>customerID</th>\n",
       "      <th>gender</th>\n",
       "      <th>SeniorCitizen</th>\n",
       "      <th>Partner</th>\n",
       "      <th>Dependents</th>\n",
       "      <th>tenure</th>\n",
       "      <th>PhoneService</th>\n",
       "      <th>MultipleLines</th>\n",
       "      <th>InternetService</th>\n",
       "      <th>OnlineSecurity</th>\n",
       "      <th>...</th>\n",
       "      <th>DeviceProtection</th>\n",
       "      <th>TechSupport</th>\n",
       "      <th>StreamingTV</th>\n",
       "      <th>StreamingMovies</th>\n",
       "      <th>Contract</th>\n",
       "      <th>PaperlessBilling</th>\n",
       "      <th>PaymentMethod</th>\n",
       "      <th>MonthlyCharges</th>\n",
       "      <th>TotalCharges</th>\n",
       "      <th>Churn</th>\n",
       "    </tr>\n",
       "  </thead>\n",
       "  <tbody>\n",
       "    <tr>\n",
       "      <th>0</th>\n",
       "      <td>7590-VHVEG</td>\n",
       "      <td>Female</td>\n",
       "      <td>0</td>\n",
       "      <td>Yes</td>\n",
       "      <td>No</td>\n",
       "      <td>1</td>\n",
       "      <td>No</td>\n",
       "      <td>No phone service</td>\n",
       "      <td>DSL</td>\n",
       "      <td>No</td>\n",
       "      <td>...</td>\n",
       "      <td>No</td>\n",
       "      <td>No</td>\n",
       "      <td>No</td>\n",
       "      <td>No</td>\n",
       "      <td>Month-to-month</td>\n",
       "      <td>Yes</td>\n",
       "      <td>Electronic check</td>\n",
       "      <td>29.85</td>\n",
       "      <td>29.85</td>\n",
       "      <td>No</td>\n",
       "    </tr>\n",
       "    <tr>\n",
       "      <th>1</th>\n",
       "      <td>5575-GNVDE</td>\n",
       "      <td>Male</td>\n",
       "      <td>0</td>\n",
       "      <td>No</td>\n",
       "      <td>No</td>\n",
       "      <td>34</td>\n",
       "      <td>Yes</td>\n",
       "      <td>No</td>\n",
       "      <td>DSL</td>\n",
       "      <td>Yes</td>\n",
       "      <td>...</td>\n",
       "      <td>Yes</td>\n",
       "      <td>No</td>\n",
       "      <td>No</td>\n",
       "      <td>No</td>\n",
       "      <td>One year</td>\n",
       "      <td>No</td>\n",
       "      <td>Mailed check</td>\n",
       "      <td>56.95</td>\n",
       "      <td>1889.5</td>\n",
       "      <td>No</td>\n",
       "    </tr>\n",
       "    <tr>\n",
       "      <th>2</th>\n",
       "      <td>3668-QPYBK</td>\n",
       "      <td>Male</td>\n",
       "      <td>0</td>\n",
       "      <td>No</td>\n",
       "      <td>No</td>\n",
       "      <td>2</td>\n",
       "      <td>Yes</td>\n",
       "      <td>No</td>\n",
       "      <td>DSL</td>\n",
       "      <td>Yes</td>\n",
       "      <td>...</td>\n",
       "      <td>No</td>\n",
       "      <td>No</td>\n",
       "      <td>No</td>\n",
       "      <td>No</td>\n",
       "      <td>Month-to-month</td>\n",
       "      <td>Yes</td>\n",
       "      <td>Mailed check</td>\n",
       "      <td>53.85</td>\n",
       "      <td>108.15</td>\n",
       "      <td>Yes</td>\n",
       "    </tr>\n",
       "    <tr>\n",
       "      <th>3</th>\n",
       "      <td>7795-CFOCW</td>\n",
       "      <td>Male</td>\n",
       "      <td>0</td>\n",
       "      <td>No</td>\n",
       "      <td>No</td>\n",
       "      <td>45</td>\n",
       "      <td>No</td>\n",
       "      <td>No phone service</td>\n",
       "      <td>DSL</td>\n",
       "      <td>Yes</td>\n",
       "      <td>...</td>\n",
       "      <td>Yes</td>\n",
       "      <td>Yes</td>\n",
       "      <td>No</td>\n",
       "      <td>No</td>\n",
       "      <td>One year</td>\n",
       "      <td>No</td>\n",
       "      <td>Bank transfer (automatic)</td>\n",
       "      <td>42.30</td>\n",
       "      <td>1840.75</td>\n",
       "      <td>No</td>\n",
       "    </tr>\n",
       "    <tr>\n",
       "      <th>4</th>\n",
       "      <td>9237-HQITU</td>\n",
       "      <td>Female</td>\n",
       "      <td>0</td>\n",
       "      <td>No</td>\n",
       "      <td>No</td>\n",
       "      <td>2</td>\n",
       "      <td>Yes</td>\n",
       "      <td>No</td>\n",
       "      <td>Fiber optic</td>\n",
       "      <td>No</td>\n",
       "      <td>...</td>\n",
       "      <td>No</td>\n",
       "      <td>No</td>\n",
       "      <td>No</td>\n",
       "      <td>No</td>\n",
       "      <td>Month-to-month</td>\n",
       "      <td>Yes</td>\n",
       "      <td>Electronic check</td>\n",
       "      <td>70.70</td>\n",
       "      <td>151.65</td>\n",
       "      <td>Yes</td>\n",
       "    </tr>\n",
       "    <tr>\n",
       "      <th>...</th>\n",
       "      <td>...</td>\n",
       "      <td>...</td>\n",
       "      <td>...</td>\n",
       "      <td>...</td>\n",
       "      <td>...</td>\n",
       "      <td>...</td>\n",
       "      <td>...</td>\n",
       "      <td>...</td>\n",
       "      <td>...</td>\n",
       "      <td>...</td>\n",
       "      <td>...</td>\n",
       "      <td>...</td>\n",
       "      <td>...</td>\n",
       "      <td>...</td>\n",
       "      <td>...</td>\n",
       "      <td>...</td>\n",
       "      <td>...</td>\n",
       "      <td>...</td>\n",
       "      <td>...</td>\n",
       "      <td>...</td>\n",
       "      <td>...</td>\n",
       "    </tr>\n",
       "    <tr>\n",
       "      <th>7038</th>\n",
       "      <td>6840-RESVB</td>\n",
       "      <td>Male</td>\n",
       "      <td>0</td>\n",
       "      <td>Yes</td>\n",
       "      <td>Yes</td>\n",
       "      <td>24</td>\n",
       "      <td>Yes</td>\n",
       "      <td>Yes</td>\n",
       "      <td>DSL</td>\n",
       "      <td>Yes</td>\n",
       "      <td>...</td>\n",
       "      <td>Yes</td>\n",
       "      <td>Yes</td>\n",
       "      <td>Yes</td>\n",
       "      <td>Yes</td>\n",
       "      <td>One year</td>\n",
       "      <td>Yes</td>\n",
       "      <td>Mailed check</td>\n",
       "      <td>84.80</td>\n",
       "      <td>1990.5</td>\n",
       "      <td>No</td>\n",
       "    </tr>\n",
       "    <tr>\n",
       "      <th>7039</th>\n",
       "      <td>2234-XADUH</td>\n",
       "      <td>Female</td>\n",
       "      <td>0</td>\n",
       "      <td>Yes</td>\n",
       "      <td>Yes</td>\n",
       "      <td>72</td>\n",
       "      <td>Yes</td>\n",
       "      <td>Yes</td>\n",
       "      <td>Fiber optic</td>\n",
       "      <td>No</td>\n",
       "      <td>...</td>\n",
       "      <td>Yes</td>\n",
       "      <td>No</td>\n",
       "      <td>Yes</td>\n",
       "      <td>Yes</td>\n",
       "      <td>One year</td>\n",
       "      <td>Yes</td>\n",
       "      <td>Credit card (automatic)</td>\n",
       "      <td>103.20</td>\n",
       "      <td>7362.9</td>\n",
       "      <td>No</td>\n",
       "    </tr>\n",
       "    <tr>\n",
       "      <th>7040</th>\n",
       "      <td>4801-JZAZL</td>\n",
       "      <td>Female</td>\n",
       "      <td>0</td>\n",
       "      <td>Yes</td>\n",
       "      <td>Yes</td>\n",
       "      <td>11</td>\n",
       "      <td>No</td>\n",
       "      <td>No phone service</td>\n",
       "      <td>DSL</td>\n",
       "      <td>Yes</td>\n",
       "      <td>...</td>\n",
       "      <td>No</td>\n",
       "      <td>No</td>\n",
       "      <td>No</td>\n",
       "      <td>No</td>\n",
       "      <td>Month-to-month</td>\n",
       "      <td>Yes</td>\n",
       "      <td>Electronic check</td>\n",
       "      <td>29.60</td>\n",
       "      <td>346.45</td>\n",
       "      <td>No</td>\n",
       "    </tr>\n",
       "    <tr>\n",
       "      <th>7041</th>\n",
       "      <td>8361-LTMKD</td>\n",
       "      <td>Male</td>\n",
       "      <td>1</td>\n",
       "      <td>Yes</td>\n",
       "      <td>No</td>\n",
       "      <td>4</td>\n",
       "      <td>Yes</td>\n",
       "      <td>Yes</td>\n",
       "      <td>Fiber optic</td>\n",
       "      <td>No</td>\n",
       "      <td>...</td>\n",
       "      <td>No</td>\n",
       "      <td>No</td>\n",
       "      <td>No</td>\n",
       "      <td>No</td>\n",
       "      <td>Month-to-month</td>\n",
       "      <td>Yes</td>\n",
       "      <td>Mailed check</td>\n",
       "      <td>74.40</td>\n",
       "      <td>306.6</td>\n",
       "      <td>Yes</td>\n",
       "    </tr>\n",
       "    <tr>\n",
       "      <th>7042</th>\n",
       "      <td>3186-AJIEK</td>\n",
       "      <td>Male</td>\n",
       "      <td>0</td>\n",
       "      <td>No</td>\n",
       "      <td>No</td>\n",
       "      <td>66</td>\n",
       "      <td>Yes</td>\n",
       "      <td>No</td>\n",
       "      <td>Fiber optic</td>\n",
       "      <td>Yes</td>\n",
       "      <td>...</td>\n",
       "      <td>Yes</td>\n",
       "      <td>Yes</td>\n",
       "      <td>Yes</td>\n",
       "      <td>Yes</td>\n",
       "      <td>Two year</td>\n",
       "      <td>Yes</td>\n",
       "      <td>Bank transfer (automatic)</td>\n",
       "      <td>105.65</td>\n",
       "      <td>6844.5</td>\n",
       "      <td>No</td>\n",
       "    </tr>\n",
       "  </tbody>\n",
       "</table>\n",
       "<p>7043 rows × 21 columns</p>\n",
       "</div>"
      ],
      "text/plain": [
       "      customerID  gender  SeniorCitizen Partner Dependents  tenure  \\\n",
       "0     7590-VHVEG  Female              0     Yes         No       1   \n",
       "1     5575-GNVDE    Male              0      No         No      34   \n",
       "2     3668-QPYBK    Male              0      No         No       2   \n",
       "3     7795-CFOCW    Male              0      No         No      45   \n",
       "4     9237-HQITU  Female              0      No         No       2   \n",
       "...          ...     ...            ...     ...        ...     ...   \n",
       "7038  6840-RESVB    Male              0     Yes        Yes      24   \n",
       "7039  2234-XADUH  Female              0     Yes        Yes      72   \n",
       "7040  4801-JZAZL  Female              0     Yes        Yes      11   \n",
       "7041  8361-LTMKD    Male              1     Yes         No       4   \n",
       "7042  3186-AJIEK    Male              0      No         No      66   \n",
       "\n",
       "     PhoneService     MultipleLines InternetService OnlineSecurity  ...  \\\n",
       "0              No  No phone service             DSL             No  ...   \n",
       "1             Yes                No             DSL            Yes  ...   \n",
       "2             Yes                No             DSL            Yes  ...   \n",
       "3              No  No phone service             DSL            Yes  ...   \n",
       "4             Yes                No     Fiber optic             No  ...   \n",
       "...           ...               ...             ...            ...  ...   \n",
       "7038          Yes               Yes             DSL            Yes  ...   \n",
       "7039          Yes               Yes     Fiber optic             No  ...   \n",
       "7040           No  No phone service             DSL            Yes  ...   \n",
       "7041          Yes               Yes     Fiber optic             No  ...   \n",
       "7042          Yes                No     Fiber optic            Yes  ...   \n",
       "\n",
       "     DeviceProtection TechSupport StreamingTV StreamingMovies        Contract  \\\n",
       "0                  No          No          No              No  Month-to-month   \n",
       "1                 Yes          No          No              No        One year   \n",
       "2                  No          No          No              No  Month-to-month   \n",
       "3                 Yes         Yes          No              No        One year   \n",
       "4                  No          No          No              No  Month-to-month   \n",
       "...               ...         ...         ...             ...             ...   \n",
       "7038              Yes         Yes         Yes             Yes        One year   \n",
       "7039              Yes          No         Yes             Yes        One year   \n",
       "7040               No          No          No              No  Month-to-month   \n",
       "7041               No          No          No              No  Month-to-month   \n",
       "7042              Yes         Yes         Yes             Yes        Two year   \n",
       "\n",
       "     PaperlessBilling              PaymentMethod MonthlyCharges  TotalCharges  \\\n",
       "0                 Yes           Electronic check          29.85         29.85   \n",
       "1                  No               Mailed check          56.95        1889.5   \n",
       "2                 Yes               Mailed check          53.85        108.15   \n",
       "3                  No  Bank transfer (automatic)          42.30       1840.75   \n",
       "4                 Yes           Electronic check          70.70        151.65   \n",
       "...               ...                        ...            ...           ...   \n",
       "7038              Yes               Mailed check          84.80        1990.5   \n",
       "7039              Yes    Credit card (automatic)         103.20        7362.9   \n",
       "7040              Yes           Electronic check          29.60        346.45   \n",
       "7041              Yes               Mailed check          74.40         306.6   \n",
       "7042              Yes  Bank transfer (automatic)         105.65        6844.5   \n",
       "\n",
       "     Churn  \n",
       "0       No  \n",
       "1       No  \n",
       "2      Yes  \n",
       "3       No  \n",
       "4      Yes  \n",
       "...    ...  \n",
       "7038    No  \n",
       "7039    No  \n",
       "7040    No  \n",
       "7041   Yes  \n",
       "7042    No  \n",
       "\n",
       "[7043 rows x 21 columns]"
      ]
     },
     "execution_count": 2,
     "metadata": {},
     "output_type": "execute_result"
    }
   ],
   "source": [
    "df=pd.read_csv(\"G:/csv_files/Telco-Customer-Churn.csv\")\n",
    "df"
   ]
  },
  {
   "cell_type": "code",
   "execution_count": 3,
   "id": "95cbbde1",
   "metadata": {},
   "outputs": [
    {
     "data": {
      "text/plain": [
       "Index(['customerID', 'gender', 'SeniorCitizen', 'Partner', 'Dependents',\n",
       "       'tenure', 'PhoneService', 'MultipleLines', 'InternetService',\n",
       "       'OnlineSecurity', 'OnlineBackup', 'DeviceProtection', 'TechSupport',\n",
       "       'StreamingTV', 'StreamingMovies', 'Contract', 'PaperlessBilling',\n",
       "       'PaymentMethod', 'MonthlyCharges', 'TotalCharges', 'Churn'],\n",
       "      dtype='object')"
      ]
     },
     "execution_count": 3,
     "metadata": {},
     "output_type": "execute_result"
    }
   ],
   "source": [
    "# watching the columns\n",
    "df.columns"
   ]
  },
  {
   "cell_type": "code",
   "execution_count": 4,
   "id": "51992468",
   "metadata": {},
   "outputs": [
    {
     "data": {
      "text/plain": [
       "customerID          0\n",
       "gender              0\n",
       "SeniorCitizen       0\n",
       "Partner             0\n",
       "Dependents          0\n",
       "tenure              0\n",
       "PhoneService        0\n",
       "MultipleLines       0\n",
       "InternetService     0\n",
       "OnlineSecurity      0\n",
       "OnlineBackup        0\n",
       "DeviceProtection    0\n",
       "TechSupport         0\n",
       "StreamingTV         0\n",
       "StreamingMovies     0\n",
       "Contract            0\n",
       "PaperlessBilling    0\n",
       "PaymentMethod       0\n",
       "MonthlyCharges      0\n",
       "TotalCharges        0\n",
       "Churn               0\n",
       "dtype: int64"
      ]
     },
     "execution_count": 4,
     "metadata": {},
     "output_type": "execute_result"
    }
   ],
   "source": [
    "# data cleaning\n",
    "df.isna().sum()"
   ]
  },
  {
   "cell_type": "code",
   "execution_count": 5,
   "id": "d496fac2",
   "metadata": {},
   "outputs": [
    {
     "name": "stdout",
     "output_type": "stream",
     "text": [
      "customerID ---------- ['7590-VHVEG' '5575-GNVDE' '3668-QPYBK' ... '4801-JZAZL' '8361-LTMKD'\n",
      " '3186-AJIEK']\n",
      "gender ---------- ['Female' 'Male']\n",
      "Partner ---------- ['Yes' 'No']\n",
      "Dependents ---------- ['No' 'Yes']\n",
      "PhoneService ---------- ['No' 'Yes']\n",
      "MultipleLines ---------- ['No phone service' 'No' 'Yes']\n",
      "InternetService ---------- ['DSL' 'Fiber optic' 'No']\n",
      "OnlineSecurity ---------- ['No' 'Yes' 'No internet service']\n",
      "OnlineBackup ---------- ['Yes' 'No' 'No internet service']\n",
      "DeviceProtection ---------- ['No' 'Yes' 'No internet service']\n",
      "TechSupport ---------- ['No' 'Yes' 'No internet service']\n",
      "StreamingTV ---------- ['No' 'Yes' 'No internet service']\n",
      "StreamingMovies ---------- ['No' 'Yes' 'No internet service']\n",
      "Contract ---------- ['Month-to-month' 'One year' 'Two year']\n",
      "PaperlessBilling ---------- ['Yes' 'No']\n",
      "PaymentMethod ---------- ['Electronic check' 'Mailed check' 'Bank transfer (automatic)'\n",
      " 'Credit card (automatic)']\n",
      "TotalCharges ---------- ['29.85' '1889.5' '108.15' ... '346.45' '306.6' '6844.5']\n",
      "Churn ---------- ['No' 'Yes']\n"
     ]
    }
   ],
   "source": [
    "# checking the unique values (cardinality) of catogorical columns, in future we can change it to 1's and 0's also\n",
    "for column in df.columns:\n",
    "    if df[column].dtypes==\"object\":\n",
    "        print(column,\"----------\",df[column].unique())"
   ]
  },
  {
   "cell_type": "code",
   "execution_count": 6,
   "id": "59f6b4fd",
   "metadata": {},
   "outputs": [],
   "source": [
    "# replaced the redundant values \n",
    "df[\"MultipleLines\"].replace(\"No phone service\",\"No\",inplace=True)\n",
    "df[\"OnlineSecurity\"].replace(\"No internet service\",\"No\",inplace=True)\n",
    "df[\"OnlineBackup\"].replace(\"No internet service\",\"No\",inplace=True)\n",
    "df[\"DeviceProtection\"].replace(\"No internet service\",\"No\",inplace=True)\n",
    "df[\"TechSupport\"].replace(\"No internet service\",\"No\",inplace=True)\n",
    "df[\"StreamingTV\"].replace(\"No internet service\",\"No\",inplace=True)\n",
    "df[\"StreamingMovies\"].replace(\"No internet service\",\"No\",inplace=True)"
   ]
  },
  {
   "cell_type": "code",
   "execution_count": 7,
   "id": "422584f6",
   "metadata": {},
   "outputs": [
    {
     "name": "stdout",
     "output_type": "stream",
     "text": [
      "customerID ---------- ['7590-VHVEG' '5575-GNVDE' '3668-QPYBK' ... '4801-JZAZL' '8361-LTMKD'\n",
      " '3186-AJIEK']\n",
      "gender ---------- ['Female' 'Male']\n",
      "Partner ---------- ['Yes' 'No']\n",
      "Dependents ---------- ['No' 'Yes']\n",
      "PhoneService ---------- ['No' 'Yes']\n",
      "MultipleLines ---------- ['No' 'Yes']\n",
      "InternetService ---------- ['DSL' 'Fiber optic' 'No']\n",
      "OnlineSecurity ---------- ['No' 'Yes']\n",
      "OnlineBackup ---------- ['Yes' 'No']\n",
      "DeviceProtection ---------- ['No' 'Yes']\n",
      "TechSupport ---------- ['No' 'Yes']\n",
      "StreamingTV ---------- ['No' 'Yes']\n",
      "StreamingMovies ---------- ['No' 'Yes']\n",
      "Contract ---------- ['Month-to-month' 'One year' 'Two year']\n",
      "PaperlessBilling ---------- ['Yes' 'No']\n",
      "PaymentMethod ---------- ['Electronic check' 'Mailed check' 'Bank transfer (automatic)'\n",
      " 'Credit card (automatic)']\n",
      "TotalCharges ---------- ['29.85' '1889.5' '108.15' ... '346.45' '306.6' '6844.5']\n",
      "Churn ---------- ['No' 'Yes']\n"
     ]
    }
   ],
   "source": [
    "# once again checking\n",
    "for column in df.columns:\n",
    "    if df[column].dtypes==\"object\":\n",
    "        print(column,\"----------\",df[column].unique())"
   ]
  },
  {
   "cell_type": "code",
   "execution_count": 10,
   "id": "365a4846",
   "metadata": {},
   "outputs": [
    {
     "data": {
      "text/plain": [
       "<AxesSubplot:xlabel='gender', ylabel='count'>"
      ]
     },
     "execution_count": 10,
     "metadata": {},
     "output_type": "execute_result"
    },
    {
     "data": {
      "image/png": "[encoded data removed]",
      "text/plain": [
       "<Figure size 432x288 with 1 Axes>"
      ]
     },
     "metadata": {
      "needs_background": "light"
     },
     "output_type": "display_data"
    }
   ],
   "source": [
    "# doing some data visvalisation\n",
    "sns.countplot( x=df[\"gender\"],hue=df[\"Churn\"])\n",
    "# the graph shows gender has no influence over the ratio of churn that's the company is not so baised with gender"
   ]
  },
  {
   "cell_type": "code",
   "execution_count": 8,
   "id": "50351366",
   "metadata": {},
   "outputs": [
    {
     "data": {
      "text/plain": [
       "count    7043.000000\n",
       "mean       64.761692\n",
       "std        30.090047\n",
       "min        18.250000\n",
       "25%        35.500000\n",
       "50%        70.350000\n",
       "75%        89.850000\n",
       "max       118.750000\n",
       "Name: MonthlyCharges, dtype: float64"
      ]
     },
     "execution_count": 8,
     "metadata": {},
     "output_type": "execute_result"
    }
   ],
   "source": [
    "df[\"MonthlyCharges\"].describe()\n",
    "# from below max.monthly charges is 118 and min monthly charges is 30"
   ]
  },
  {
   "cell_type": "code",
   "execution_count": 9,
   "id": "416b6687",
   "metadata": {},
   "outputs": [],
   "source": [
    "df[\"monthlycharges_above_mean()\"]=df[\"MonthlyCharges\"].apply(lambda x:True if x>65 else False)\n",
    "# considering them as decent customers"
   ]
  },
  {
   "cell_type": "code",
   "execution_count": 13,
   "id": "8edafcb4",
   "metadata": {},
   "outputs": [
    {
     "data": {
      "text/plain": [
       "<Figure size 720x360 with 0 Axes>"
      ]
     },
     "metadata": {},
     "output_type": "display_data"
    },
    {
     "data": {
      "image/png": "[encoded data removed]",
      "text/plain": [
       "<Figure size 797x360 with 2 Axes>"
      ]
     },
     "metadata": {
      "needs_background": "light"
     },
     "output_type": "display_data"
    },
    {
     "data": {
      "text/plain": [
       "<Figure size 720x360 with 0 Axes>"
      ]
     },
     "metadata": {},
     "output_type": "display_data"
    },
    {
     "data": {
      "image/png": "[encoded data removed]",
      "text/plain": [
       "<Figure size 812.625x360 with 2 Axes>"
      ]
     },
     "metadata": {
      "needs_background": "light"
     },
     "output_type": "display_data"
    },
    {
     "data": {
      "text/plain": [
       "<Figure size 720x360 with 0 Axes>"
      ]
     },
     "metadata": {},
     "output_type": "display_data"
    },
    {
     "data": {
      "image/png": "[encoded data removed]",
      "text/plain": [
       "<Figure size 789.375x360 with 2 Axes>"
      ]
     },
     "metadata": {
      "needs_background": "light"
     },
     "output_type": "display_data"
    },
    {
     "data": {
      "text/plain": [
       "<Figure size 720x360 with 0 Axes>"
      ]
     },
     "metadata": {},
     "output_type": "display_data"
    },
    {
     "data": {
      "image/png": "[encoded data removed]",
      "text/plain": [
       "<Figure size 792.375x360 with 2 Axes>"
      ]
     },
     "metadata": {
      "needs_background": "light"
     },
     "output_type": "display_data"
    },
    {
     "data": {
      "text/plain": [
       "<Figure size 720x360 with 0 Axes>"
      ]
     },
     "metadata": {},
     "output_type": "display_data"
    },
    {
     "data": {
      "image/png": "[encoded data removed]",
      "text/plain": [
       "<Figure size 814.25x360 with 2 Axes>"
      ]
     },
     "metadata": {
      "needs_background": "light"
     },
     "output_type": "display_data"
    },
    {
     "data": {
      "text/plain": [
       "<Figure size 720x360 with 0 Axes>"
      ]
     },
     "metadata": {},
     "output_type": "display_data"
    },
    {
     "data": {
      "image/png": "[encoded data removed]",
      "text/plain": [
       "<Figure size 795.75x360 with 2 Axes>"
      ]
     },
     "metadata": {
      "needs_background": "light"
     },
     "output_type": "display_data"
    },
    {
     "data": {
      "text/plain": [
       "<Figure size 720x360 with 0 Axes>"
      ]
     },
     "metadata": {},
     "output_type": "display_data"
    },
    {
     "data": {
      "image/png": "[encoded data removed]",
      "text/plain": [
       "<Figure size 794x360 with 2 Axes>"
      ]
     },
     "metadata": {
      "needs_background": "light"
     },
     "output_type": "display_data"
    },
    {
     "data": {
      "text/plain": [
       "<Figure size 720x360 with 0 Axes>"
      ]
     },
     "metadata": {},
     "output_type": "display_data"
    },
    {
     "data": {
      "image/png": "[encoded data removed]",
      "text/plain": [
       "<Figure size 808x360 with 2 Axes>"
      ]
     },
     "metadata": {
      "needs_background": "light"
     },
     "output_type": "display_data"
    }
   ],
   "source": [
    "# checking the people consumed their other features \n",
    "for i in [\"OnlineBackup\",\"DeviceProtection\",\"TechSupport\",\"StreamingTV\",\"StreamingMovies\",\\\n",
    "                                 \"PhoneService\",\"MultipleLines\",\"InternetService\"]:\n",
    "    plt.figure(figsize=(10,5))\n",
    "#     sns.catplot(x=df[\"MonthlyCharges\"]>65,hue=df[i],kind=\"count\",col=df[\"Churn\"])\n",
    "    sns.catplot(x=\"monthlycharges_above_mean()\",hue=i,col=\"Churn\",data=df,kind=\"count\")\n",
    "    plt.xticks(ticks=[0,1],labels=[\"monthly_charge<65\",\"monthly_charge>65\"])\n",
    "    plt.show()\n",
    "      "
   ]
  },
  {
   "cell_type": "code",
   "execution_count": 10,
   "id": "1e9718c3",
   "metadata": {},
   "outputs": [],
   "source": [
    "# the graph infer that people have not utilised other products of company mostlikly left \n",
    "# better the company should focus to purchase other products to keep their customers"
   ]
  },
  {
   "cell_type": "code",
   "execution_count": 12,
   "id": "1fdddf49",
   "metadata": {},
   "outputs": [
    {
     "data": {
      "image/png": "[encoded data removed]",
      "text/plain": [
       "<Figure size 432x288 with 1 Axes>"
      ]
     },
     "metadata": {
      "needs_background": "light"
     },
     "output_type": "display_data"
    }
   ],
   "source": [
    "sns.countplot(x=df[\"MonthlyCharges\"]>65,hue=df[\"Churn\"])\n",
    "plt.xticks(ticks=[0,1],labels=[\"monthly_charge<65\",\"monthly_charge>65\"])\n",
    "plt.show()"
   ]
  },
  {
   "cell_type": "markdown",
   "id": "a7b03209",
   "metadata": {},
   "source": [
    "#above graph is very important the ratio of people with high monthly bill paying, the percentage of churn is high \n",
    "#since they are valuable customers, we can give them free trail/subcription of other products to keep them "
   ]
  },
  {
   "cell_type": "markdown",
   "id": "d09fb8cc",
   "metadata": {},
   "source": [
    "for i in [\"OnlineBackup\",\"DeviceProtection\",\"TechSupport\",\"StreamingTV\",\"StreamingMovies\",\\\n",
    "                                 \"PhoneService\",\"MultipleLines\",\"InternetService\"]:\n",
    "    plt.figure(figsize=(10,5))\n",
    "    sns.countplot(x=df[\"MonthlyCharges\"]>65,hue=df[i])\n",
    "    plt.xticks(ticks=[0,1],labels=[\"monthly_charge<65\",\"monthly_charge>65\"])\n",
    "    plt.show()\n",
    "<!--    other way of data visualisation     -->"
   ]
  },
  {
   "cell_type": "code",
   "execution_count": 13,
   "id": "383eacc1",
   "metadata": {},
   "outputs": [],
   "source": [
    "# since the \"TotalCharges\" is string we have to change it\n",
    "df[\"TotalCharges\"]=pd.to_numeric(df[\"TotalCharges\"],errors='coerce')"
   ]
  },
  {
   "cell_type": "code",
   "execution_count": 14,
   "id": "7df24a31",
   "metadata": {},
   "outputs": [],
   "source": [
    "# drop nan columns\n",
    "df1=df[~df[\"TotalCharges\"].isna()]"
   ]
  },
  {
   "cell_type": "code",
   "execution_count": 15,
   "id": "ee73a140",
   "metadata": {
    "scrolled": true
   },
   "outputs": [
    {
     "name": "stdout",
     "output_type": "stream",
     "text": [
      "customerID ---------- ['7590-VHVEG' '5575-GNVDE' '3668-QPYBK' ... '4801-JZAZL' '8361-LTMKD'\n",
      " '3186-AJIEK']\n",
      "gender ---------- ['Female' 'Male']\n",
      "Partner ---------- ['Yes' 'No']\n",
      "Dependents ---------- ['No' 'Yes']\n",
      "PhoneService ---------- ['No' 'Yes']\n",
      "MultipleLines ---------- ['No' 'Yes']\n",
      "InternetService ---------- ['DSL' 'Fiber optic' 'No']\n",
      "OnlineSecurity ---------- ['No' 'Yes']\n",
      "OnlineBackup ---------- ['Yes' 'No']\n",
      "DeviceProtection ---------- ['No' 'Yes']\n",
      "TechSupport ---------- ['No' 'Yes']\n",
      "StreamingTV ---------- ['No' 'Yes']\n",
      "StreamingMovies ---------- ['No' 'Yes']\n",
      "Contract ---------- ['Month-to-month' 'One year' 'Two year']\n",
      "PaperlessBilling ---------- ['Yes' 'No']\n",
      "PaymentMethod ---------- ['Electronic check' 'Mailed check' 'Bank transfer (automatic)'\n",
      " 'Credit card (automatic)']\n",
      "Churn ---------- ['No' 'Yes']\n"
     ]
    }
   ],
   "source": [
    "# let's start data preprocessing\n",
    "for column in df1.columns:\n",
    "    if df[column].dtypes==\"object\":\n",
    "        print(column,\"----------\",df1[column].unique())"
   ]
  },
  {
   "cell_type": "code",
   "execution_count": 16,
   "id": "1ec02c2c",
   "metadata": {
    "scrolled": true
   },
   "outputs": [
    {
     "name": "stderr",
     "output_type": "stream",
     "text": [
      "C:\\Users\\Hariharan.M\\AppData\\Roaming\\Python\\Python310\\site-packages\\pandas\\core\\frame.py:5238: SettingWithCopyWarning: \n",
      "A value is trying to be set on a copy of a slice from a DataFrame\n",
      "\n",
      "See the caveats in the documentation: https://pandas.pydata.org/pandas-docs/stable/user_guide/indexing.html#returning-a-view-versus-a-copy\n",
      "  return super().replace(\n"
     ]
    }
   ],
   "source": [
    "df1.replace({\"Yes\":1,\"No\":0,\"Female\":1,\"Male\":0},inplace=True)"
   ]
  },
  {
   "cell_type": "code",
   "execution_count": 17,
   "id": "c1bfbb59",
   "metadata": {},
   "outputs": [
    {
     "name": "stdout",
     "output_type": "stream",
     "text": [
      "customerID ---------- ['7590-VHVEG' '5575-GNVDE' '3668-QPYBK' ... '4801-JZAZL' '8361-LTMKD'\n",
      " '3186-AJIEK']\n",
      "gender ---------- [1 0]\n",
      "SeniorCitizen ---------- [0 1]\n",
      "Partner ---------- [1 0]\n",
      "Dependents ---------- [0 1]\n",
      "tenure ---------- [ 1 34  2 45  8 22 10 28 62 13 16 58 49 25 69 52 71 21 12 30 47 72 17 27\n",
      "  5 46 11 70 63 43 15 60 18 66  9  3 31 50 64 56  7 42 35 48 29 65 38 68\n",
      " 32 55 37 36 41  6  4 33 67 23 57 61 14 20 53 40 59 24 44 19 54 51 26 39]\n",
      "PhoneService ---------- [0 1]\n",
      "MultipleLines ---------- [0 1]\n",
      "InternetService ---------- ['DSL' 'Fiber optic' 0]\n",
      "OnlineSecurity ---------- [0 1]\n",
      "OnlineBackup ---------- [1 0]\n",
      "DeviceProtection ---------- [0 1]\n",
      "TechSupport ---------- [0 1]\n",
      "StreamingTV ---------- [0 1]\n",
      "StreamingMovies ---------- [0 1]\n",
      "Contract ---------- ['Month-to-month' 'One year' 'Two year']\n",
      "PaperlessBilling ---------- [1 0]\n",
      "PaymentMethod ---------- ['Electronic check' 'Mailed check' 'Bank transfer (automatic)'\n",
      " 'Credit card (automatic)']\n",
      "MonthlyCharges ---------- [29.85 56.95 53.85 ... 63.1  44.2  78.7 ]\n",
      "TotalCharges ---------- [  29.85 1889.5   108.15 ...  346.45  306.6  6844.5 ]\n",
      "Churn ---------- [0 1]\n",
      "monthlycharges_above_mean() ---------- [False  True]\n"
     ]
    }
   ],
   "source": [
    "for column in df1.columns:\n",
    "#     if df1[i].dtypes==\"object\":\n",
    "        print(column,\"----------\",df1[column].unique())"
   ]
  },
  {
   "cell_type": "code",
   "execution_count": 18,
   "id": "db4a9167",
   "metadata": {},
   "outputs": [
    {
     "name": "stdout",
     "output_type": "stream",
     "text": [
      "customerID\n",
      "InternetService\n",
      "Contract\n",
      "PaymentMethod\n"
     ]
    }
   ],
   "source": [
    "for i in df1:\n",
    "    if df1[i].dtypes==\"object\":\n",
    "#         pd.get_dummies(df1,columns=[i],drop_first=True,prefix=f\"{i}\")\n",
    "        print(i)"
   ]
  },
  {
   "cell_type": "code",
   "execution_count": 19,
   "id": "6672d1bd",
   "metadata": {},
   "outputs": [],
   "source": [
    "# copy the dataframe \n",
    "df2=df1.copy()"
   ]
  },
  {
   "cell_type": "code",
   "execution_count": 20,
   "id": "27c36d32",
   "metadata": {
    "scrolled": true
   },
   "outputs": [
    {
     "data": {
      "text/html": [
       "<div>\n",
       "<style scoped>\n",
       "    .dataframe tbody tr th:only-of-type {\n",
       "        vertical-align: middle;\n",
       "    }\n",
       "\n",
       "    .dataframe tbody tr th {\n",
       "        vertical-align: top;\n",
       "    }\n",
       "\n",
       "    .dataframe thead th {\n",
       "        text-align: right;\n",
       "    }\n",
       "</style>\n",
       "<table border=\"1\" class=\"dataframe\">\n",
       "  <thead>\n",
       "    <tr style=\"text-align: right;\">\n",
       "      <th></th>\n",
       "      <th>customerID</th>\n",
       "      <th>gender</th>\n",
       "      <th>SeniorCitizen</th>\n",
       "      <th>Partner</th>\n",
       "      <th>Dependents</th>\n",
       "      <th>tenure</th>\n",
       "      <th>PhoneService</th>\n",
       "      <th>MultipleLines</th>\n",
       "      <th>InternetService</th>\n",
       "      <th>OnlineSecurity</th>\n",
       "      <th>...</th>\n",
       "      <th>TechSupport</th>\n",
       "      <th>StreamingTV</th>\n",
       "      <th>StreamingMovies</th>\n",
       "      <th>Contract</th>\n",
       "      <th>PaperlessBilling</th>\n",
       "      <th>PaymentMethod</th>\n",
       "      <th>MonthlyCharges</th>\n",
       "      <th>TotalCharges</th>\n",
       "      <th>Churn</th>\n",
       "      <th>monthlycharges_above_mean()</th>\n",
       "    </tr>\n",
       "  </thead>\n",
       "  <tbody>\n",
       "    <tr>\n",
       "      <th>0</th>\n",
       "      <td>7590-VHVEG</td>\n",
       "      <td>1</td>\n",
       "      <td>0</td>\n",
       "      <td>1</td>\n",
       "      <td>0</td>\n",
       "      <td>1</td>\n",
       "      <td>0</td>\n",
       "      <td>0</td>\n",
       "      <td>DSL</td>\n",
       "      <td>0</td>\n",
       "      <td>...</td>\n",
       "      <td>0</td>\n",
       "      <td>0</td>\n",
       "      <td>0</td>\n",
       "      <td>Month-to-month</td>\n",
       "      <td>1</td>\n",
       "      <td>Electronic check</td>\n",
       "      <td>29.85</td>\n",
       "      <td>29.85</td>\n",
       "      <td>0</td>\n",
       "      <td>False</td>\n",
       "    </tr>\n",
       "    <tr>\n",
       "      <th>1</th>\n",
       "      <td>5575-GNVDE</td>\n",
       "      <td>0</td>\n",
       "      <td>0</td>\n",
       "      <td>0</td>\n",
       "      <td>0</td>\n",
       "      <td>34</td>\n",
       "      <td>1</td>\n",
       "      <td>0</td>\n",
       "      <td>DSL</td>\n",
       "      <td>1</td>\n",
       "      <td>...</td>\n",
       "      <td>0</td>\n",
       "      <td>0</td>\n",
       "      <td>0</td>\n",
       "      <td>One year</td>\n",
       "      <td>0</td>\n",
       "      <td>Mailed check</td>\n",
       "      <td>56.95</td>\n",
       "      <td>1889.50</td>\n",
       "      <td>0</td>\n",
       "      <td>False</td>\n",
       "    </tr>\n",
       "    <tr>\n",
       "      <th>2</th>\n",
       "      <td>3668-QPYBK</td>\n",
       "      <td>0</td>\n",
       "      <td>0</td>\n",
       "      <td>0</td>\n",
       "      <td>0</td>\n",
       "      <td>2</td>\n",
       "      <td>1</td>\n",
       "      <td>0</td>\n",
       "      <td>DSL</td>\n",
       "      <td>1</td>\n",
       "      <td>...</td>\n",
       "      <td>0</td>\n",
       "      <td>0</td>\n",
       "      <td>0</td>\n",
       "      <td>Month-to-month</td>\n",
       "      <td>1</td>\n",
       "      <td>Mailed check</td>\n",
       "      <td>53.85</td>\n",
       "      <td>108.15</td>\n",
       "      <td>1</td>\n",
       "      <td>False</td>\n",
       "    </tr>\n",
       "    <tr>\n",
       "      <th>3</th>\n",
       "      <td>7795-CFOCW</td>\n",
       "      <td>0</td>\n",
       "      <td>0</td>\n",
       "      <td>0</td>\n",
       "      <td>0</td>\n",
       "      <td>45</td>\n",
       "      <td>0</td>\n",
       "      <td>0</td>\n",
       "      <td>DSL</td>\n",
       "      <td>1</td>\n",
       "      <td>...</td>\n",
       "      <td>1</td>\n",
       "      <td>0</td>\n",
       "      <td>0</td>\n",
       "      <td>One year</td>\n",
       "      <td>0</td>\n",
       "      <td>Bank transfer (automatic)</td>\n",
       "      <td>42.30</td>\n",
       "      <td>1840.75</td>\n",
       "      <td>0</td>\n",
       "      <td>False</td>\n",
       "    </tr>\n",
       "    <tr>\n",
       "      <th>4</th>\n",
       "      <td>9237-HQITU</td>\n",
       "      <td>1</td>\n",
       "      <td>0</td>\n",
       "      <td>0</td>\n",
       "      <td>0</td>\n",
       "      <td>2</td>\n",
       "      <td>1</td>\n",
       "      <td>0</td>\n",
       "      <td>Fiber optic</td>\n",
       "      <td>0</td>\n",
       "      <td>...</td>\n",
       "      <td>0</td>\n",
       "      <td>0</td>\n",
       "      <td>0</td>\n",
       "      <td>Month-to-month</td>\n",
       "      <td>1</td>\n",
       "      <td>Electronic check</td>\n",
       "      <td>70.70</td>\n",
       "      <td>151.65</td>\n",
       "      <td>1</td>\n",
       "      <td>True</td>\n",
       "    </tr>\n",
       "    <tr>\n",
       "      <th>...</th>\n",
       "      <td>...</td>\n",
       "      <td>...</td>\n",
       "      <td>...</td>\n",
       "      <td>...</td>\n",
       "      <td>...</td>\n",
       "      <td>...</td>\n",
       "      <td>...</td>\n",
       "      <td>...</td>\n",
       "      <td>...</td>\n",
       "      <td>...</td>\n",
       "      <td>...</td>\n",
       "      <td>...</td>\n",
       "      <td>...</td>\n",
       "      <td>...</td>\n",
       "      <td>...</td>\n",
       "      <td>...</td>\n",
       "      <td>...</td>\n",
       "      <td>...</td>\n",
       "      <td>...</td>\n",
       "      <td>...</td>\n",
       "      <td>...</td>\n",
       "    </tr>\n",
       "    <tr>\n",
       "      <th>7038</th>\n",
       "      <td>6840-RESVB</td>\n",
       "      <td>0</td>\n",
       "      <td>0</td>\n",
       "      <td>1</td>\n",
       "      <td>1</td>\n",
       "      <td>24</td>\n",
       "      <td>1</td>\n",
       "      <td>1</td>\n",
       "      <td>DSL</td>\n",
       "      <td>1</td>\n",
       "      <td>...</td>\n",
       "      <td>1</td>\n",
       "      <td>1</td>\n",
       "      <td>1</td>\n",
       "      <td>One year</td>\n",
       "      <td>1</td>\n",
       "      <td>Mailed check</td>\n",
       "      <td>84.80</td>\n",
       "      <td>1990.50</td>\n",
       "      <td>0</td>\n",
       "      <td>True</td>\n",
       "    </tr>\n",
       "    <tr>\n",
       "      <th>7039</th>\n",
       "      <td>2234-XADUH</td>\n",
       "      <td>1</td>\n",
       "      <td>0</td>\n",
       "      <td>1</td>\n",
       "      <td>1</td>\n",
       "      <td>72</td>\n",
       "      <td>1</td>\n",
       "      <td>1</td>\n",
       "      <td>Fiber optic</td>\n",
       "      <td>0</td>\n",
       "      <td>...</td>\n",
       "      <td>0</td>\n",
       "      <td>1</td>\n",
       "      <td>1</td>\n",
       "      <td>One year</td>\n",
       "      <td>1</td>\n",
       "      <td>Credit card (automatic)</td>\n",
       "      <td>103.20</td>\n",
       "      <td>7362.90</td>\n",
       "      <td>0</td>\n",
       "      <td>True</td>\n",
       "    </tr>\n",
       "    <tr>\n",
       "      <th>7040</th>\n",
       "      <td>4801-JZAZL</td>\n",
       "      <td>1</td>\n",
       "      <td>0</td>\n",
       "      <td>1</td>\n",
       "      <td>1</td>\n",
       "      <td>11</td>\n",
       "      <td>0</td>\n",
       "      <td>0</td>\n",
       "      <td>DSL</td>\n",
       "      <td>1</td>\n",
       "      <td>...</td>\n",
       "      <td>0</td>\n",
       "      <td>0</td>\n",
       "      <td>0</td>\n",
       "      <td>Month-to-month</td>\n",
       "      <td>1</td>\n",
       "      <td>Electronic check</td>\n",
       "      <td>29.60</td>\n",
       "      <td>346.45</td>\n",
       "      <td>0</td>\n",
       "      <td>False</td>\n",
       "    </tr>\n",
       "    <tr>\n",
       "      <th>7041</th>\n",
       "      <td>8361-LTMKD</td>\n",
       "      <td>0</td>\n",
       "      <td>1</td>\n",
       "      <td>1</td>\n",
       "      <td>0</td>\n",
       "      <td>4</td>\n",
       "      <td>1</td>\n",
       "      <td>1</td>\n",
       "      <td>Fiber optic</td>\n",
       "      <td>0</td>\n",
       "      <td>...</td>\n",
       "      <td>0</td>\n",
       "      <td>0</td>\n",
       "      <td>0</td>\n",
       "      <td>Month-to-month</td>\n",
       "      <td>1</td>\n",
       "      <td>Mailed check</td>\n",
       "      <td>74.40</td>\n",
       "      <td>306.60</td>\n",
       "      <td>1</td>\n",
       "      <td>True</td>\n",
       "    </tr>\n",
       "    <tr>\n",
       "      <th>7042</th>\n",
       "      <td>3186-AJIEK</td>\n",
       "      <td>0</td>\n",
       "      <td>0</td>\n",
       "      <td>0</td>\n",
       "      <td>0</td>\n",
       "      <td>66</td>\n",
       "      <td>1</td>\n",
       "      <td>0</td>\n",
       "      <td>Fiber optic</td>\n",
       "      <td>1</td>\n",
       "      <td>...</td>\n",
       "      <td>1</td>\n",
       "      <td>1</td>\n",
       "      <td>1</td>\n",
       "      <td>Two year</td>\n",
       "      <td>1</td>\n",
       "      <td>Bank transfer (automatic)</td>\n",
       "      <td>105.65</td>\n",
       "      <td>6844.50</td>\n",
       "      <td>0</td>\n",
       "      <td>True</td>\n",
       "    </tr>\n",
       "  </tbody>\n",
       "</table>\n",
       "<p>7032 rows × 22 columns</p>\n",
       "</div>"
      ],
      "text/plain": [
       "      customerID  gender  SeniorCitizen  Partner  Dependents  tenure  \\\n",
       "0     7590-VHVEG       1              0        1           0       1   \n",
       "1     5575-GNVDE       0              0        0           0      34   \n",
       "2     3668-QPYBK       0              0        0           0       2   \n",
       "3     7795-CFOCW       0              0        0           0      45   \n",
       "4     9237-HQITU       1              0        0           0       2   \n",
       "...          ...     ...            ...      ...         ...     ...   \n",
       "7038  6840-RESVB       0              0        1           1      24   \n",
       "7039  2234-XADUH       1              0        1           1      72   \n",
       "7040  4801-JZAZL       1              0        1           1      11   \n",
       "7041  8361-LTMKD       0              1        1           0       4   \n",
       "7042  3186-AJIEK       0              0        0           0      66   \n",
       "\n",
       "      PhoneService  MultipleLines InternetService  OnlineSecurity  ...  \\\n",
       "0                0              0             DSL               0  ...   \n",
       "1                1              0             DSL               1  ...   \n",
       "2                1              0             DSL               1  ...   \n",
       "3                0              0             DSL               1  ...   \n",
       "4                1              0     Fiber optic               0  ...   \n",
       "...            ...            ...             ...             ...  ...   \n",
       "7038             1              1             DSL               1  ...   \n",
       "7039             1              1     Fiber optic               0  ...   \n",
       "7040             0              0             DSL               1  ...   \n",
       "7041             1              1     Fiber optic               0  ...   \n",
       "7042             1              0     Fiber optic               1  ...   \n",
       "\n",
       "      TechSupport  StreamingTV  StreamingMovies        Contract  \\\n",
       "0               0            0                0  Month-to-month   \n",
       "1               0            0                0        One year   \n",
       "2               0            0                0  Month-to-month   \n",
       "3               1            0                0        One year   \n",
       "4               0            0                0  Month-to-month   \n",
       "...           ...          ...              ...             ...   \n",
       "7038            1            1                1        One year   \n",
       "7039            0            1                1        One year   \n",
       "7040            0            0                0  Month-to-month   \n",
       "7041            0            0                0  Month-to-month   \n",
       "7042            1            1                1        Two year   \n",
       "\n",
       "      PaperlessBilling              PaymentMethod  MonthlyCharges  \\\n",
       "0                    1           Electronic check           29.85   \n",
       "1                    0               Mailed check           56.95   \n",
       "2                    1               Mailed check           53.85   \n",
       "3                    0  Bank transfer (automatic)           42.30   \n",
       "4                    1           Electronic check           70.70   \n",
       "...                ...                        ...             ...   \n",
       "7038                 1               Mailed check           84.80   \n",
       "7039                 1    Credit card (automatic)          103.20   \n",
       "7040                 1           Electronic check           29.60   \n",
       "7041                 1               Mailed check           74.40   \n",
       "7042                 1  Bank transfer (automatic)          105.65   \n",
       "\n",
       "     TotalCharges  Churn  monthlycharges_above_mean()  \n",
       "0           29.85      0                        False  \n",
       "1         1889.50      0                        False  \n",
       "2          108.15      1                        False  \n",
       "3         1840.75      0                        False  \n",
       "4          151.65      1                         True  \n",
       "...           ...    ...                          ...  \n",
       "7038      1990.50      0                         True  \n",
       "7039      7362.90      0                         True  \n",
       "7040       346.45      0                        False  \n",
       "7041       306.60      1                         True  \n",
       "7042      6844.50      0                         True  \n",
       "\n",
       "[7032 rows x 22 columns]"
      ]
     },
     "execution_count": 20,
     "metadata": {},
     "output_type": "execute_result"
    }
   ],
   "source": [
    "df2"
   ]
  },
  {
   "cell_type": "code",
   "execution_count": 21,
   "id": "bc1184c7",
   "metadata": {
    "scrolled": true
   },
   "outputs": [
    {
     "data": {
      "text/plain": [
       "Index(['customerID', 'gender', 'SeniorCitizen', 'Partner', 'Dependents',\n",
       "       'tenure', 'PhoneService', 'MultipleLines', 'InternetService',\n",
       "       'OnlineSecurity', 'OnlineBackup', 'DeviceProtection', 'TechSupport',\n",
       "       'StreamingTV', 'StreamingMovies', 'Contract', 'PaperlessBilling',\n",
       "       'PaymentMethod', 'MonthlyCharges', 'TotalCharges', 'Churn',\n",
       "       'monthlycharges_above_mean()'],\n",
       "      dtype='object')"
      ]
     },
     "execution_count": 21,
     "metadata": {},
     "output_type": "execute_result"
    }
   ],
   "source": [
    "df2.columns"
   ]
  },
  {
   "cell_type": "code",
   "execution_count": 22,
   "id": "6d0ab8bb",
   "metadata": {},
   "outputs": [
    {
     "name": "stderr",
     "output_type": "stream",
     "text": [
      "C:\\Users\\Hariharan.M\\AppData\\Roaming\\Python\\Python310\\site-packages\\pandas\\core\\frame.py:4906: SettingWithCopyWarning: \n",
      "A value is trying to be set on a copy of a slice from a DataFrame\n",
      "\n",
      "See the caveats in the documentation: https://pandas.pydata.org/pandas-docs/stable/user_guide/indexing.html#returning-a-view-versus-a-copy\n",
      "  return super().drop(\n"
     ]
    }
   ],
   "source": [
    "# drop some of columns which does not affect the target variable \n",
    "df1.drop([\"customerID\",\"monthlycharges_above_mean()\"],axis=1,inplace=True)"
   ]
  },
  {
   "cell_type": "code",
   "execution_count": 23,
   "id": "1f4c676e",
   "metadata": {},
   "outputs": [],
   "source": [
    "df2=pd.get_dummies(df1,columns=[\"InternetService\",\"Contract\",\"PaymentMethod\"],drop_first=True)"
   ]
  },
  {
   "cell_type": "code",
   "execution_count": 24,
   "id": "19b86292",
   "metadata": {
    "scrolled": false
   },
   "outputs": [
    {
     "data": {
      "text/plain": [
       "Index(['gender', 'SeniorCitizen', 'Partner', 'Dependents', 'tenure',\n",
       "       'PhoneService', 'MultipleLines', 'OnlineSecurity', 'OnlineBackup',\n",
       "       'DeviceProtection', 'TechSupport', 'StreamingTV', 'StreamingMovies',\n",
       "       'PaperlessBilling', 'MonthlyCharges', 'TotalCharges', 'Churn',\n",
       "       'InternetService_DSL', 'InternetService_Fiber optic',\n",
       "       'Contract_One year', 'Contract_Two year',\n",
       "       'PaymentMethod_Credit card (automatic)',\n",
       "       'PaymentMethod_Electronic check', 'PaymentMethod_Mailed check'],\n",
       "      dtype='object')"
      ]
     },
     "execution_count": 24,
     "metadata": {},
     "output_type": "execute_result"
    }
   ],
   "source": [
    "df2.columns"
   ]
  },
  {
   "cell_type": "code",
   "execution_count": 47,
   "id": "083f1cd5",
   "metadata": {},
   "outputs": [
    {
     "data": {
      "text/plain": [
       "gender                                   0.018776\n",
       "SeniorCitizen                            1.831103\n",
       "Partner                                  0.070024\n",
       "Dependents                               0.880908\n",
       "tenure                                   0.237731\n",
       "PhoneService                            -2.729727\n",
       "MultipleLines                            0.316232\n",
       "OnlineSecurity                           0.944373\n",
       "OnlineBackup                             0.652954\n",
       "DeviceProtection                         0.657594\n",
       "TechSupport                              0.925245\n",
       "StreamingTV                              0.475441\n",
       "StreamingMovies                          0.458191\n",
       "PaperlessBilling                        -0.377503\n",
       "MonthlyCharges                          -0.222103\n",
       "TotalCharges                             0.961642\n",
       "Churn                                    1.060622\n",
       "InternetService_DSL                      0.658922\n",
       "InternetService_Fiber optic              0.240682\n",
       "Contract_One year                        1.429263\n",
       "Contract_Two year                        1.220270\n",
       "PaymentMethod_Credit card (automatic)    1.378433\n",
       "PaymentMethod_Electronic check           0.693048\n",
       "PaymentMethod_Mailed check               1.296249\n",
       "dtype: float64"
      ]
     },
     "execution_count": 47,
     "metadata": {},
     "output_type": "execute_result"
    }
   ],
   "source": [
    "# lets check the skew of the columns\n",
    "df2.skew()\n",
    "# more than one is highly skewed so let's normalise them"
   ]
  },
  {
   "cell_type": "code",
   "execution_count": 55,
   "id": "cb434d54",
   "metadata": {},
   "outputs": [],
   "source": [
    "# one last thing is to normalise the data here we should drop the target variable\n",
    "scale=StandardScaler()\n",
    "scale.fit(df2.drop(\"Churn\",axis=1))\n",
    "df3=scale.transform(df2.drop(\"Churn\",axis=1))"
   ]
  },
  {
   "cell_type": "code",
   "execution_count": 70,
   "id": "54333af5",
   "metadata": {},
   "outputs": [
    {
     "data": {
      "text/html": [
       "<div>\n",
       "<style scoped>\n",
       "    .dataframe tbody tr th:only-of-type {\n",
       "        vertical-align: middle;\n",
       "    }\n",
       "\n",
       "    .dataframe tbody tr th {\n",
       "        vertical-align: top;\n",
       "    }\n",
       "\n",
       "    .dataframe thead th {\n",
       "        text-align: right;\n",
       "    }\n",
       "</style>\n",
       "<table border=\"1\" class=\"dataframe\">\n",
       "  <thead>\n",
       "    <tr style=\"text-align: right;\">\n",
       "      <th></th>\n",
       "      <th>0</th>\n",
       "      <th>1</th>\n",
       "      <th>2</th>\n",
       "      <th>3</th>\n",
       "      <th>4</th>\n",
       "      <th>5</th>\n",
       "      <th>6</th>\n",
       "      <th>7</th>\n",
       "      <th>8</th>\n",
       "      <th>9</th>\n",
       "      <th>...</th>\n",
       "      <th>13</th>\n",
       "      <th>14</th>\n",
       "      <th>15</th>\n",
       "      <th>16</th>\n",
       "      <th>17</th>\n",
       "      <th>18</th>\n",
       "      <th>19</th>\n",
       "      <th>20</th>\n",
       "      <th>21</th>\n",
       "      <th>22</th>\n",
       "    </tr>\n",
       "  </thead>\n",
       "  <tbody>\n",
       "    <tr>\n",
       "      <th>0</th>\n",
       "      <td>1.009430</td>\n",
       "      <td>-0.440327</td>\n",
       "      <td>1.035617</td>\n",
       "      <td>-0.652305</td>\n",
       "      <td>-1.280248</td>\n",
       "      <td>-3.056334</td>\n",
       "      <td>-0.854336</td>\n",
       "      <td>-0.633746</td>\n",
       "      <td>1.378330</td>\n",
       "      <td>-0.723918</td>\n",
       "      <td>...</td>\n",
       "      <td>0.828939</td>\n",
       "      <td>-1.161694</td>\n",
       "      <td>-0.994194</td>\n",
       "      <td>1.382243</td>\n",
       "      <td>-0.886896</td>\n",
       "      <td>-0.514537</td>\n",
       "      <td>-0.561364</td>\n",
       "      <td>-0.525351</td>\n",
       "      <td>1.404764</td>\n",
       "      <td>-0.543604</td>\n",
       "    </tr>\n",
       "    <tr>\n",
       "      <th>1</th>\n",
       "      <td>-0.990658</td>\n",
       "      <td>-0.440327</td>\n",
       "      <td>-0.965608</td>\n",
       "      <td>-0.652305</td>\n",
       "      <td>0.064303</td>\n",
       "      <td>0.327189</td>\n",
       "      <td>-0.854336</td>\n",
       "      <td>1.577918</td>\n",
       "      <td>-0.725516</td>\n",
       "      <td>1.381372</td>\n",
       "      <td>...</td>\n",
       "      <td>-1.206361</td>\n",
       "      <td>-0.260878</td>\n",
       "      <td>-0.173740</td>\n",
       "      <td>1.382243</td>\n",
       "      <td>-0.886896</td>\n",
       "      <td>1.943495</td>\n",
       "      <td>-0.561364</td>\n",
       "      <td>-0.525351</td>\n",
       "      <td>-0.711863</td>\n",
       "      <td>1.839576</td>\n",
       "    </tr>\n",
       "    <tr>\n",
       "      <th>2</th>\n",
       "      <td>-0.990658</td>\n",
       "      <td>-0.440327</td>\n",
       "      <td>-0.965608</td>\n",
       "      <td>-0.652305</td>\n",
       "      <td>-1.239504</td>\n",
       "      <td>0.327189</td>\n",
       "      <td>-0.854336</td>\n",
       "      <td>1.577918</td>\n",
       "      <td>1.378330</td>\n",
       "      <td>-0.723918</td>\n",
       "      <td>...</td>\n",
       "      <td>0.828939</td>\n",
       "      <td>-0.363923</td>\n",
       "      <td>-0.959649</td>\n",
       "      <td>1.382243</td>\n",
       "      <td>-0.886896</td>\n",
       "      <td>-0.514537</td>\n",
       "      <td>-0.561364</td>\n",
       "      <td>-0.525351</td>\n",
       "      <td>-0.711863</td>\n",
       "      <td>1.839576</td>\n",
       "    </tr>\n",
       "    <tr>\n",
       "      <th>3</th>\n",
       "      <td>-0.990658</td>\n",
       "      <td>-0.440327</td>\n",
       "      <td>-0.965608</td>\n",
       "      <td>-0.652305</td>\n",
       "      <td>0.512486</td>\n",
       "      <td>-3.056334</td>\n",
       "      <td>-0.854336</td>\n",
       "      <td>1.577918</td>\n",
       "      <td>-0.725516</td>\n",
       "      <td>1.381372</td>\n",
       "      <td>...</td>\n",
       "      <td>-1.206361</td>\n",
       "      <td>-0.747850</td>\n",
       "      <td>-0.195248</td>\n",
       "      <td>1.382243</td>\n",
       "      <td>-0.886896</td>\n",
       "      <td>1.943495</td>\n",
       "      <td>-0.561364</td>\n",
       "      <td>-0.525351</td>\n",
       "      <td>-0.711863</td>\n",
       "      <td>-0.543604</td>\n",
       "    </tr>\n",
       "    <tr>\n",
       "      <th>4</th>\n",
       "      <td>1.009430</td>\n",
       "      <td>-0.440327</td>\n",
       "      <td>-0.965608</td>\n",
       "      <td>-0.652305</td>\n",
       "      <td>-1.239504</td>\n",
       "      <td>0.327189</td>\n",
       "      <td>-0.854336</td>\n",
       "      <td>-0.633746</td>\n",
       "      <td>-0.725516</td>\n",
       "      <td>-0.723918</td>\n",
       "      <td>...</td>\n",
       "      <td>0.828939</td>\n",
       "      <td>0.196178</td>\n",
       "      <td>-0.940457</td>\n",
       "      <td>-0.723462</td>\n",
       "      <td>1.127527</td>\n",
       "      <td>-0.514537</td>\n",
       "      <td>-0.561364</td>\n",
       "      <td>-0.525351</td>\n",
       "      <td>1.404764</td>\n",
       "      <td>-0.543604</td>\n",
       "    </tr>\n",
       "    <tr>\n",
       "      <th>...</th>\n",
       "      <td>...</td>\n",
       "      <td>...</td>\n",
       "      <td>...</td>\n",
       "      <td>...</td>\n",
       "      <td>...</td>\n",
       "      <td>...</td>\n",
       "      <td>...</td>\n",
       "      <td>...</td>\n",
       "      <td>...</td>\n",
       "      <td>...</td>\n",
       "      <td>...</td>\n",
       "      <td>...</td>\n",
       "      <td>...</td>\n",
       "      <td>...</td>\n",
       "      <td>...</td>\n",
       "      <td>...</td>\n",
       "      <td>...</td>\n",
       "      <td>...</td>\n",
       "      <td>...</td>\n",
       "      <td>...</td>\n",
       "      <td>...</td>\n",
       "    </tr>\n",
       "    <tr>\n",
       "      <th>7027</th>\n",
       "      <td>-0.990658</td>\n",
       "      <td>-0.440327</td>\n",
       "      <td>1.035617</td>\n",
       "      <td>1.533025</td>\n",
       "      <td>-0.343137</td>\n",
       "      <td>0.327189</td>\n",
       "      <td>1.170500</td>\n",
       "      <td>1.577918</td>\n",
       "      <td>-0.725516</td>\n",
       "      <td>1.381372</td>\n",
       "      <td>...</td>\n",
       "      <td>0.828939</td>\n",
       "      <td>0.664868</td>\n",
       "      <td>-0.129180</td>\n",
       "      <td>1.382243</td>\n",
       "      <td>-0.886896</td>\n",
       "      <td>1.943495</td>\n",
       "      <td>-0.561364</td>\n",
       "      <td>-0.525351</td>\n",
       "      <td>-0.711863</td>\n",
       "      <td>1.839576</td>\n",
       "    </tr>\n",
       "    <tr>\n",
       "      <th>7028</th>\n",
       "      <td>1.009430</td>\n",
       "      <td>-0.440327</td>\n",
       "      <td>1.035617</td>\n",
       "      <td>1.533025</td>\n",
       "      <td>1.612573</td>\n",
       "      <td>0.327189</td>\n",
       "      <td>1.170500</td>\n",
       "      <td>-0.633746</td>\n",
       "      <td>1.378330</td>\n",
       "      <td>1.381372</td>\n",
       "      <td>...</td>\n",
       "      <td>0.828939</td>\n",
       "      <td>1.276493</td>\n",
       "      <td>2.241056</td>\n",
       "      <td>-0.723462</td>\n",
       "      <td>1.127527</td>\n",
       "      <td>1.943495</td>\n",
       "      <td>-0.561364</td>\n",
       "      <td>1.903490</td>\n",
       "      <td>-0.711863</td>\n",
       "      <td>-0.543604</td>\n",
       "    </tr>\n",
       "    <tr>\n",
       "      <th>7029</th>\n",
       "      <td>1.009430</td>\n",
       "      <td>-0.440327</td>\n",
       "      <td>1.035617</td>\n",
       "      <td>1.533025</td>\n",
       "      <td>-0.872808</td>\n",
       "      <td>-3.056334</td>\n",
       "      <td>-0.854336</td>\n",
       "      <td>1.577918</td>\n",
       "      <td>-0.725516</td>\n",
       "      <td>-0.723918</td>\n",
       "      <td>...</td>\n",
       "      <td>0.828939</td>\n",
       "      <td>-1.170004</td>\n",
       "      <td>-0.854514</td>\n",
       "      <td>1.382243</td>\n",
       "      <td>-0.886896</td>\n",
       "      <td>-0.514537</td>\n",
       "      <td>-0.561364</td>\n",
       "      <td>-0.525351</td>\n",
       "      <td>1.404764</td>\n",
       "      <td>-0.543604</td>\n",
       "    </tr>\n",
       "    <tr>\n",
       "      <th>7030</th>\n",
       "      <td>-0.990658</td>\n",
       "      <td>2.271039</td>\n",
       "      <td>1.035617</td>\n",
       "      <td>-0.652305</td>\n",
       "      <td>-1.158016</td>\n",
       "      <td>0.327189</td>\n",
       "      <td>1.170500</td>\n",
       "      <td>-0.633746</td>\n",
       "      <td>-0.725516</td>\n",
       "      <td>-0.723918</td>\n",
       "      <td>...</td>\n",
       "      <td>0.828939</td>\n",
       "      <td>0.319168</td>\n",
       "      <td>-0.872095</td>\n",
       "      <td>-0.723462</td>\n",
       "      <td>1.127527</td>\n",
       "      <td>-0.514537</td>\n",
       "      <td>-0.561364</td>\n",
       "      <td>-0.525351</td>\n",
       "      <td>-0.711863</td>\n",
       "      <td>1.839576</td>\n",
       "    </tr>\n",
       "    <tr>\n",
       "      <th>7031</th>\n",
       "      <td>-0.990658</td>\n",
       "      <td>-0.440327</td>\n",
       "      <td>-0.965608</td>\n",
       "      <td>-0.652305</td>\n",
       "      <td>1.368109</td>\n",
       "      <td>0.327189</td>\n",
       "      <td>-0.854336</td>\n",
       "      <td>1.577918</td>\n",
       "      <td>-0.725516</td>\n",
       "      <td>1.381372</td>\n",
       "      <td>...</td>\n",
       "      <td>0.828939</td>\n",
       "      <td>1.357932</td>\n",
       "      <td>2.012344</td>\n",
       "      <td>-0.723462</td>\n",
       "      <td>1.127527</td>\n",
       "      <td>-0.514537</td>\n",
       "      <td>1.781374</td>\n",
       "      <td>-0.525351</td>\n",
       "      <td>-0.711863</td>\n",
       "      <td>-0.543604</td>\n",
       "    </tr>\n",
       "  </tbody>\n",
       "</table>\n",
       "<p>7032 rows × 23 columns</p>\n",
       "</div>"
      ],
      "text/plain": [
       "            0         1         2         3         4         5         6   \\\n",
       "0     1.009430 -0.440327  1.035617 -0.652305 -1.280248 -3.056334 -0.854336   \n",
       "1    -0.990658 -0.440327 -0.965608 -0.652305  0.064303  0.327189 -0.854336   \n",
       "2    -0.990658 -0.440327 -0.965608 -0.652305 -1.239504  0.327189 -0.854336   \n",
       "3    -0.990658 -0.440327 -0.965608 -0.652305  0.512486 -3.056334 -0.854336   \n",
       "4     1.009430 -0.440327 -0.965608 -0.652305 -1.239504  0.327189 -0.854336   \n",
       "...        ...       ...       ...       ...       ...       ...       ...   \n",
       "7027 -0.990658 -0.440327  1.035617  1.533025 -0.343137  0.327189  1.170500   \n",
       "7028  1.009430 -0.440327  1.035617  1.533025  1.612573  0.327189  1.170500   \n",
       "7029  1.009430 -0.440327  1.035617  1.533025 -0.872808 -3.056334 -0.854336   \n",
       "7030 -0.990658  2.271039  1.035617 -0.652305 -1.158016  0.327189  1.170500   \n",
       "7031 -0.990658 -0.440327 -0.965608 -0.652305  1.368109  0.327189 -0.854336   \n",
       "\n",
       "            7         8         9   ...        13        14        15  \\\n",
       "0    -0.633746  1.378330 -0.723918  ...  0.828939 -1.161694 -0.994194   \n",
       "1     1.577918 -0.725516  1.381372  ... -1.206361 -0.260878 -0.173740   \n",
       "2     1.577918  1.378330 -0.723918  ...  0.828939 -0.363923 -0.959649   \n",
       "3     1.577918 -0.725516  1.381372  ... -1.206361 -0.747850 -0.195248   \n",
       "4    -0.633746 -0.725516 -0.723918  ...  0.828939  0.196178 -0.940457   \n",
       "...        ...       ...       ...  ...       ...       ...       ...   \n",
       "7027  1.577918 -0.725516  1.381372  ...  0.828939  0.664868 -0.129180   \n",
       "7028 -0.633746  1.378330  1.381372  ...  0.828939  1.276493  2.241056   \n",
       "7029  1.577918 -0.725516 -0.723918  ...  0.828939 -1.170004 -0.854514   \n",
       "7030 -0.633746 -0.725516 -0.723918  ...  0.828939  0.319168 -0.872095   \n",
       "7031  1.577918 -0.725516  1.381372  ...  0.828939  1.357932  2.012344   \n",
       "\n",
       "            16        17        18        19        20        21        22  \n",
       "0     1.382243 -0.886896 -0.514537 -0.561364 -0.525351  1.404764 -0.543604  \n",
       "1     1.382243 -0.886896  1.943495 -0.561364 -0.525351 -0.711863  1.839576  \n",
       "2     1.382243 -0.886896 -0.514537 -0.561364 -0.525351 -0.711863  1.839576  \n",
       "3     1.382243 -0.886896  1.943495 -0.561364 -0.525351 -0.711863 -0.543604  \n",
       "4    -0.723462  1.127527 -0.514537 -0.561364 -0.525351  1.404764 -0.543604  \n",
       "...        ...       ...       ...       ...       ...       ...       ...  \n",
       "7027  1.382243 -0.886896  1.943495 -0.561364 -0.525351 -0.711863  1.839576  \n",
       "7028 -0.723462  1.127527  1.943495 -0.561364  1.903490 -0.711863 -0.543604  \n",
       "7029  1.382243 -0.886896 -0.514537 -0.561364 -0.525351  1.404764 -0.543604  \n",
       "7030 -0.723462  1.127527 -0.514537 -0.561364 -0.525351 -0.711863  1.839576  \n",
       "7031 -0.723462  1.127527 -0.514537  1.781374 -0.525351 -0.711863 -0.543604  \n",
       "\n",
       "[7032 rows x 23 columns]"
      ]
     },
     "execution_count": 70,
     "metadata": {},
     "output_type": "execute_result"
    }
   ],
   "source": [
    "df3"
   ]
  },
  {
   "cell_type": "code",
   "execution_count": 57,
   "id": "4b043764",
   "metadata": {},
   "outputs": [],
   "source": [
    "target=df2.Churn\n",
    "df3=pd.DataFrame(df3)"
   ]
  },
  {
   "cell_type": "code",
   "execution_count": 58,
   "id": "85e6a0f7",
   "metadata": {},
   "outputs": [],
   "source": [
    "x_train,x_test,y_train,y_test=train_test_split(df3,target,test_size=.2,random_state=42)"
   ]
  },
  {
   "cell_type": "code",
   "execution_count": 59,
   "id": "48d5c821",
   "metadata": {
    "scrolled": true
   },
   "outputs": [
    {
     "data": {
      "text/plain": [
       "LogisticRegression()"
      ]
     },
     "execution_count": 59,
     "metadata": {},
     "output_type": "execute_result"
    }
   ],
   "source": [
    "lg=LogisticRegression()\n",
    "lg.fit(x_train,y_train)"
   ]
  },
  {
   "cell_type": "code",
   "execution_count": 60,
   "id": "09a1a99e",
   "metadata": {},
   "outputs": [
    {
     "data": {
      "text/plain": [
       "0.7889125799573561"
      ]
     },
     "execution_count": 60,
     "metadata": {},
     "output_type": "execute_result"
    }
   ],
   "source": [
    "lg.score(x_test,y_test)\n",
    "# score is pretty good"
   ]
  },
  {
   "cell_type": "code",
   "execution_count": 63,
   "id": "7a4bb856",
   "metadata": {},
   "outputs": [],
   "source": [
    "y_predict=lg.predict(x_test)"
   ]
  },
  {
   "cell_type": "code",
   "execution_count": 64,
   "id": "546ecb12",
   "metadata": {},
   "outputs": [
    {
     "data": {
      "text/plain": [
       "array([0, 0, 1, ..., 0, 0, 0], dtype=int64)"
      ]
     },
     "execution_count": 64,
     "metadata": {},
     "output_type": "execute_result"
    }
   ],
   "source": [
    "y_predict"
   ]
  },
  {
   "cell_type": "code",
   "execution_count": 65,
   "id": "951dad04",
   "metadata": {},
   "outputs": [],
   "source": [
    "# confusion matrix to see the matrix truth and predicted\n",
    "cm=confusion_matrix(y_test,y_predict)"
   ]
  },
  {
   "cell_type": "code",
   "execution_count": 66,
   "id": "3ca469b5",
   "metadata": {},
   "outputs": [
    {
     "data": {
      "text/plain": [
       "array([[917, 116],\n",
       "       [181, 193]], dtype=int64)"
      ]
     },
     "execution_count": 66,
     "metadata": {},
     "output_type": "execute_result"
    }
   ],
   "source": [
    "cm"
   ]
  },
  {
   "cell_type": "code",
   "execution_count": 67,
   "id": "559d9760",
   "metadata": {},
   "outputs": [
    {
     "data": {
      "text/plain": [
       "<AxesSubplot:>"
      ]
     },
     "execution_count": 67,
     "metadata": {},
     "output_type": "execute_result"
    },
    {
     "data": {
      "image/png": "[encoded data removed]",
      "text/plain": [
       "<Figure size 432x288 with 2 Axes>"
      ]
     },
     "metadata": {
      "needs_background": "light"
     },
     "output_type": "display_data"
    }
   ],
   "source": [
    "# for beautiful visualisation\n",
    "sns.heatmap(cm,annot=True)"
   ]
  },
  {
   "cell_type": "code",
   "execution_count": 68,
   "id": "5d28e515",
   "metadata": {
    "scrolled": false
   },
   "outputs": [
    {
     "name": "stdout",
     "output_type": "stream",
     "text": [
      "              precision    recall  f1-score   support\n",
      "\n",
      "           0       0.84      0.89      0.86      1033\n",
      "           1       0.62      0.52      0.57       374\n",
      "\n",
      "    accuracy                           0.79      1407\n",
      "   macro avg       0.73      0.70      0.71      1407\n",
      "weighted avg       0.78      0.79      0.78      1407\n",
      "\n"
     ]
    }
   ],
   "source": [
    "print(classification_report(y_test,y_predict))"
   ]
  },
  {
   "cell_type": "markdown",
   "id": "8fd880e8",
   "metadata": {},
   "source": [
    "# HANDLING MISSING DATA"
   ]
  },
  {
   "cell_type": "code",
   "execution_count": 71,
   "id": "96bfb24d",
   "metadata": {
    "scrolled": false
   },
   "outputs": [
    {
     "data": {
      "text/plain": [
       "1869"
      ]
     },
     "execution_count": 71,
     "metadata": {},
     "output_type": "execute_result"
    }
   ],
   "source": [
    "len(df2[df2[\"Churn\"]==1])"
   ]
  },
  {
   "cell_type": "code",
   "execution_count": 72,
   "id": "02560db4",
   "metadata": {},
   "outputs": [
    {
     "data": {
      "text/plain": [
       "5163"
      ]
     },
     "execution_count": 72,
     "metadata": {},
     "output_type": "execute_result"
    }
   ],
   "source": [
    "len(df2[df2[\"Churn\"]==0])"
   ]
  },
  {
   "cell_type": "markdown",
   "id": "9d3a111f",
   "metadata": {},
   "source": [
    "# case1: undersampling majority class"
   ]
  },
  {
   "cell_type": "code",
   "execution_count": 73,
   "id": "a704f241",
   "metadata": {},
   "outputs": [],
   "source": [
    "# majority class is churn==0\n",
    "case1=df2[df2[\"Churn\"]==0].sample(1869)"
   ]
  },
  {
   "cell_type": "code",
   "execution_count": 74,
   "id": "89179ece",
   "metadata": {},
   "outputs": [],
   "source": [
    "case_1=pd.concat([df2[df2[\"Churn\"]==1],case1],axis=0)"
   ]
  },
  {
   "cell_type": "code",
   "execution_count": 75,
   "id": "39bd8800",
   "metadata": {
    "scrolled": true
   },
   "outputs": [
    {
     "data": {
      "text/plain": [
       "3738"
      ]
     },
     "execution_count": 75,
     "metadata": {},
     "output_type": "execute_result"
    }
   ],
   "source": [
    "len(case_1)"
   ]
  },
  {
   "cell_type": "code",
   "execution_count": 76,
   "id": "8a2b4485",
   "metadata": {},
   "outputs": [],
   "source": [
    "case_1.reset_index(inplace=True)"
   ]
  },
  {
   "cell_type": "code",
   "execution_count": 77,
   "id": "a2691b83",
   "metadata": {},
   "outputs": [],
   "source": [
    "inputs=case_1.drop(\"Churn\",axis=1)\n",
    "output=case_1.Churn"
   ]
  },
  {
   "cell_type": "code",
   "execution_count": 78,
   "id": "cae47f97",
   "metadata": {},
   "outputs": [],
   "source": [
    "x_train,x_test,y_train,y_test=train_test_split(inputs,output,test_size=.2,stratify=output,random_state=42)"
   ]
  },
  {
   "cell_type": "code",
   "execution_count": 79,
   "id": "3ba17aa3",
   "metadata": {},
   "outputs": [
    {
     "name": "stderr",
     "output_type": "stream",
     "text": [
      "C:\\Users\\Hariharan.M\\AppData\\Roaming\\Python\\Python310\\site-packages\\sklearn\\linear_model\\_logistic.py:814: ConvergenceWarning: lbfgs failed to converge (status=1):\n",
      "STOP: TOTAL NO. of ITERATIONS REACHED LIMIT.\n",
      "\n",
      "Increase the number of iterations (max_iter) or scale the data as shown in:\n",
      "    https://scikit-learn.org/stable/modules/preprocessing.html\n",
      "Please also refer to the documentation for alternative solver options:\n",
      "    https://scikit-learn.org/stable/modules/linear_model.html#logistic-regression\n",
      "  n_iter_i = _check_optimize_result(\n"
     ]
    },
    {
     "data": {
      "text/plain": [
       "LogisticRegression()"
      ]
     },
     "execution_count": 79,
     "metadata": {},
     "output_type": "execute_result"
    }
   ],
   "source": [
    "lg=LogisticRegression()\n",
    "lg.fit(x_train,y_train)"
   ]
  },
  {
   "cell_type": "code",
   "execution_count": 80,
   "id": "86e2b9f6",
   "metadata": {},
   "outputs": [],
   "source": [
    "y_predict=lg.predict(x_test)"
   ]
  },
  {
   "cell_type": "code",
   "execution_count": 81,
   "id": "311277e7",
   "metadata": {},
   "outputs": [
    {
     "name": "stdout",
     "output_type": "stream",
     "text": [
      "              precision    recall  f1-score   support\n",
      "\n",
      "           0       0.74      0.68      0.71       374\n",
      "           1       0.70      0.76      0.73       374\n",
      "\n",
      "    accuracy                           0.72       748\n",
      "   macro avg       0.72      0.72      0.72       748\n",
      "weighted avg       0.72      0.72      0.72       748\n",
      "\n"
     ]
    }
   ],
   "source": [
    "print(classification_report(y_test,y_predict))"
   ]
  },
  {
   "cell_type": "code",
   "execution_count": null,
   "id": "febd0d9c",
   "metadata": {},
   "outputs": [],
   "source": []
  },
  {
   "cell_type": "code",
   "execution_count": null,
   "id": "e6abcaee",
   "metadata": {},
   "outputs": [],
   "source": []
  },
  {
   "cell_type": "markdown",
   "id": "79e8cb6c",
   "metadata": {},
   "source": [
    "# case_2:oversampling"
   ]
  },
  {
   "cell_type": "code",
   "execution_count": 82,
   "id": "09f234bb",
   "metadata": {},
   "outputs": [],
   "source": [
    "# duplicating the samples\n",
    "case2=df2[df2[\"Churn\"]==1].sample(5163,replace=True)"
   ]
  },
  {
   "cell_type": "code",
   "execution_count": 83,
   "id": "8ba9e618",
   "metadata": {},
   "outputs": [
    {
     "data": {
      "text/plain": [
       "5163"
      ]
     },
     "execution_count": 83,
     "metadata": {},
     "output_type": "execute_result"
    }
   ],
   "source": [
    "len(case2)"
   ]
  },
  {
   "cell_type": "code",
   "execution_count": 84,
   "id": "f1548357",
   "metadata": {},
   "outputs": [
    {
     "data": {
      "text/plain": [
       "10326"
      ]
     },
     "execution_count": 84,
     "metadata": {},
     "output_type": "execute_result"
    }
   ],
   "source": [
    "case_2=pd.concat([df2[df2[\"Churn\"]==0],case2],axis=0)\n",
    "case_2.reset_index(inplace=True)\n",
    "len(case_2)"
   ]
  },
  {
   "cell_type": "code",
   "execution_count": 85,
   "id": "b50e3459",
   "metadata": {},
   "outputs": [],
   "source": [
    "inputs=case_2.drop(\"Churn\",axis=1)\n",
    "output=case_2.Churn"
   ]
  },
  {
   "cell_type": "code",
   "execution_count": 86,
   "id": "67eb4c66",
   "metadata": {},
   "outputs": [],
   "source": [
    "x_train,x_test,y_train,y_test=train_test_split(inputs,output,test_size=.2,stratify=output,random_state=42)"
   ]
  },
  {
   "cell_type": "code",
   "execution_count": 87,
   "id": "bd2903e5",
   "metadata": {},
   "outputs": [
    {
     "data": {
      "text/plain": [
       "LogisticRegression()"
      ]
     },
     "execution_count": 87,
     "metadata": {},
     "output_type": "execute_result"
    }
   ],
   "source": [
    "lg=LogisticRegression()\n",
    "lg.fit(x_train,y_train)"
   ]
  },
  {
   "cell_type": "code",
   "execution_count": 88,
   "id": "cd66195e",
   "metadata": {},
   "outputs": [
    {
     "name": "stdout",
     "output_type": "stream",
     "text": [
      "              precision    recall  f1-score   support\n",
      "\n",
      "           0       0.77      0.71      0.73      1033\n",
      "           1       0.73      0.79      0.76      1033\n",
      "\n",
      "    accuracy                           0.75      2066\n",
      "   macro avg       0.75      0.75      0.75      2066\n",
      "weighted avg       0.75      0.75      0.75      2066\n",
      "\n"
     ]
    }
   ],
   "source": [
    "y_predict=lg.predict(x_test)\n",
    "print(classification_report(y_test,y_predict))"
   ]
  },
  {
   "cell_type": "code",
   "execution_count": null,
   "id": "34be31b6",
   "metadata": {},
   "outputs": [],
   "source": []
  },
  {
   "cell_type": "code",
   "execution_count": null,
   "id": "4a0d3980",
   "metadata": {},
   "outputs": [],
   "source": []
  },
  {
   "cell_type": "code",
   "execution_count": null,
   "id": "a54da562",
   "metadata": {},
   "outputs": [],
   "source": []
  },
  {
   "cell_type": "markdown",
   "id": "d47beabe",
   "metadata": {},
   "source": [
    "# case3 SMOTE"
   ]
  },
  {
   "cell_type": "markdown",
   "id": "390849a4",
   "metadata": {},
   "source": [
    "#synthetic minority oversampling technique same as over sampling\n",
    "#but it adapts the k nearest algorithm"
   ]
  },
  {
   "cell_type": "code",
   "execution_count": 123,
   "id": "1af061d2",
   "metadata": {},
   "outputs": [],
   "source": [
    "smote=SMOTE( sampling_strategy=\"minority\")"
   ]
  },
  {
   "cell_type": "code",
   "execution_count": 124,
   "id": "e99de1cd",
   "metadata": {},
   "outputs": [],
   "source": [
    "inputs=df2.drop(\"Churn\",axis=1)\n",
    "outputs=df2[\"Churn\"]"
   ]
  },
  {
   "cell_type": "code",
   "execution_count": 125,
   "id": "6a085849",
   "metadata": {},
   "outputs": [
    {
     "data": {
      "text/plain": [
       "0    5163\n",
       "1    1869\n",
       "Name: Churn, dtype: int64"
      ]
     },
     "execution_count": 125,
     "metadata": {},
     "output_type": "execute_result"
    }
   ],
   "source": [
    "outputs.value_counts()"
   ]
  },
  {
   "cell_type": "code",
   "execution_count": 126,
   "id": "9cb9037a",
   "metadata": {
    "scrolled": true
   },
   "outputs": [],
   "source": [
    "x_sm,y_sm= smote.fit_resample(inputs,outputs)"
   ]
  },
  {
   "cell_type": "code",
   "execution_count": 127,
   "id": "4a5580aa",
   "metadata": {},
   "outputs": [
    {
     "data": {
      "text/plain": [
       "0    5163\n",
       "1    5163\n",
       "Name: Churn, dtype: int64"
      ]
     },
     "execution_count": 127,
     "metadata": {},
     "output_type": "execute_result"
    }
   ],
   "source": [
    "y_sm.value_counts()"
   ]
  },
  {
   "cell_type": "code",
   "execution_count": 128,
   "id": "841ef0fb",
   "metadata": {},
   "outputs": [],
   "source": [
    "x_train,x_test,y_train,y_test=train_test_split(x_sm,y_sm,test_size=.2,stratify=y_sm,random_state=42)"
   ]
  },
  {
   "cell_type": "code",
   "execution_count": 129,
   "id": "c0108414",
   "metadata": {},
   "outputs": [
    {
     "name": "stderr",
     "output_type": "stream",
     "text": [
      "C:\\Users\\Hariharan.M\\AppData\\Roaming\\Python\\Python310\\site-packages\\sklearn\\linear_model\\_logistic.py:814: ConvergenceWarning: lbfgs failed to converge (status=1):\n",
      "STOP: TOTAL NO. of ITERATIONS REACHED LIMIT.\n",
      "\n",
      "Increase the number of iterations (max_iter) or scale the data as shown in:\n",
      "    https://scikit-learn.org/stable/modules/preprocessing.html\n",
      "Please also refer to the documentation for alternative solver options:\n",
      "    https://scikit-learn.org/stable/modules/linear_model.html#logistic-regression\n",
      "  n_iter_i = _check_optimize_result(\n"
     ]
    },
    {
     "data": {
      "text/plain": [
       "LogisticRegression()"
      ]
     },
     "execution_count": 129,
     "metadata": {},
     "output_type": "execute_result"
    }
   ],
   "source": [
    "lg=LogisticRegression()\n",
    "lg.fit(x_train,y_train)"
   ]
  },
  {
   "cell_type": "code",
   "execution_count": 130,
   "id": "18706168",
   "metadata": {},
   "outputs": [
    {
     "name": "stdout",
     "output_type": "stream",
     "text": [
      "              precision    recall  f1-score   support\n",
      "\n",
      "           0       0.83      0.79      0.81      1033\n",
      "           1       0.80      0.83      0.82      1033\n",
      "\n",
      "    accuracy                           0.81      2066\n",
      "   macro avg       0.81      0.81      0.81      2066\n",
      "weighted avg       0.81      0.81      0.81      2066\n",
      "\n"
     ]
    }
   ],
   "source": [
    "y_predict=lg.predict(x_test)\n",
    "print(classification_report(y_test,y_predict))"
   ]
  },
  {
   "cell_type": "code",
   "execution_count": null,
   "id": "24486bcb",
   "metadata": {},
   "outputs": [],
   "source": []
  },
  {
   "cell_type": "code",
   "execution_count": null,
   "id": "01236595",
   "metadata": {},
   "outputs": [],
   "source": []
  },
  {
   "cell_type": "code",
   "execution_count": null,
   "id": "10e36ea1",
   "metadata": {},
   "outputs": [],
   "source": []
  },
  {
   "cell_type": "markdown",
   "id": "878dd685",
   "metadata": {},
   "source": [
    "# case4 ensemble"
   ]
  },
  {
   "cell_type": "code",
   "execution_count": 131,
   "id": "d358c4e8",
   "metadata": {},
   "outputs": [],
   "source": [
    "inputs=df2.drop(\"Churn\",axis=1)\n",
    "outputs=df2[\"Churn\"]"
   ]
  },
  {
   "cell_type": "code",
   "execution_count": 132,
   "id": "28329233",
   "metadata": {
    "scrolled": true
   },
   "outputs": [
    {
     "data": {
      "text/plain": [
       "0    5163\n",
       "1    1869\n",
       "Name: Churn, dtype: int64"
      ]
     },
     "execution_count": 132,
     "metadata": {},
     "output_type": "execute_result"
    }
   ],
   "source": [
    "df2[\"Churn\"].value_counts()"
   ]
  },
  {
   "cell_type": "code",
   "execution_count": 133,
   "id": "de557539",
   "metadata": {},
   "outputs": [],
   "source": [
    "x_train,x_test,y_train,y_test=train_test_split(inputs,outputs,test_size=.2,stratify=outputs,random_state=42)"
   ]
  },
  {
   "cell_type": "code",
   "execution_count": 134,
   "id": "57e962eb",
   "metadata": {},
   "outputs": [
    {
     "data": {
      "text/plain": [
       "0    4130\n",
       "1    1495\n",
       "Name: Churn, dtype: int64"
      ]
     },
     "execution_count": 134,
     "metadata": {},
     "output_type": "execute_result"
    }
   ],
   "source": [
    "y_train.value_counts()"
   ]
  },
  {
   "cell_type": "code",
   "execution_count": 135,
   "id": "fa235cb4",
   "metadata": {},
   "outputs": [
    {
     "data": {
      "text/plain": [
       "2.762541806020067"
      ]
     },
     "execution_count": 135,
     "metadata": {},
     "output_type": "execute_result"
    }
   ],
   "source": [
    "4130/1495"
   ]
  },
  {
   "cell_type": "code",
   "execution_count": 136,
   "id": "3cb6c7c2",
   "metadata": {},
   "outputs": [],
   "source": [
    "df4=x_train\n",
    "df4[\"Churn\"]=y_train"
   ]
  },
  {
   "cell_type": "code",
   "execution_count": 137,
   "id": "aefe0d54",
   "metadata": {},
   "outputs": [
    {
     "data": {
      "text/plain": [
       "5625"
      ]
     },
     "execution_count": 137,
     "metadata": {},
     "output_type": "execute_result"
    }
   ],
   "source": [
    "len(x_train)"
   ]
  },
  {
   "cell_type": "code",
   "execution_count": 138,
   "id": "b4a0b08a",
   "metadata": {},
   "outputs": [
    {
     "data": {
      "text/plain": [
       "(1495, 4130)"
      ]
     },
     "execution_count": 138,
     "metadata": {},
     "output_type": "execute_result"
    }
   ],
   "source": [
    "churn_yes=df4[df4.Churn==1]\n",
    "churn_no=df4[df4.Churn==0]\n",
    "len(churn_yes),len(churn_no)"
   ]
  },
  {
   "cell_type": "code",
   "execution_count": 139,
   "id": "54000ee1",
   "metadata": {},
   "outputs": [],
   "source": [
    "def get_batch(start,end):\n",
    "    result=pd.concat([churn_no[start:end],churn_yes],axis=0)\n",
    "    x_train=result.drop(\"Churn\",axis=1)\n",
    "    y_train=result.Churn\n",
    "    return x_train,y_train"
   ]
  },
  {
   "cell_type": "code",
   "execution_count": 140,
   "id": "42d9e9aa",
   "metadata": {
    "scrolled": true
   },
   "outputs": [],
   "source": [
    "x_train,y_train=get_batch(0,1495)"
   ]
  },
  {
   "cell_type": "code",
   "execution_count": 141,
   "id": "a0ab29c7",
   "metadata": {},
   "outputs": [
    {
     "name": "stderr",
     "output_type": "stream",
     "text": [
      "C:\\Users\\Hariharan.M\\AppData\\Roaming\\Python\\Python310\\site-packages\\sklearn\\linear_model\\_logistic.py:814: ConvergenceWarning: lbfgs failed to converge (status=1):\n",
      "STOP: TOTAL NO. of ITERATIONS REACHED LIMIT.\n",
      "\n",
      "Increase the number of iterations (max_iter) or scale the data as shown in:\n",
      "    https://scikit-learn.org/stable/modules/preprocessing.html\n",
      "Please also refer to the documentation for alternative solver options:\n",
      "    https://scikit-learn.org/stable/modules/linear_model.html#logistic-regression\n",
      "  n_iter_i = _check_optimize_result(\n"
     ]
    },
    {
     "data": {
      "text/plain": [
       "LogisticRegression()"
      ]
     },
     "execution_count": 141,
     "metadata": {},
     "output_type": "execute_result"
    }
   ],
   "source": [
    "lg=LogisticRegression()\n",
    "lg.fit(x_train,y_train)"
   ]
  },
  {
   "cell_type": "code",
   "execution_count": 143,
   "id": "34f8ae9c",
   "metadata": {},
   "outputs": [
    {
     "name": "stdout",
     "output_type": "stream",
     "text": [
      "              precision    recall  f1-score   support\n",
      "\n",
      "           0       0.90      0.71      0.80      1033\n",
      "           1       0.50      0.79      0.61       374\n",
      "\n",
      "    accuracy                           0.73      1407\n",
      "   macro avg       0.70      0.75      0.70      1407\n",
      "weighted avg       0.80      0.73      0.75      1407\n",
      "\n"
     ]
    }
   ],
   "source": [
    "y_predict1=lg.predict(x_test)\n",
    "print(classification_report(y_test,y_predict1))"
   ]
  },
  {
   "cell_type": "markdown",
   "id": "6d4420d4",
   "metadata": {},
   "source": [
    "# number two"
   ]
  },
  {
   "cell_type": "code",
   "execution_count": 144,
   "id": "a5cc95ac",
   "metadata": {},
   "outputs": [],
   "source": [
    "x_train,y_train=get_batch(1495,2990)"
   ]
  },
  {
   "cell_type": "code",
   "execution_count": 145,
   "id": "233525cd",
   "metadata": {},
   "outputs": [
    {
     "data": {
      "text/plain": [
       "(2990, 2990)"
      ]
     },
     "execution_count": 145,
     "metadata": {},
     "output_type": "execute_result"
    }
   ],
   "source": [
    "len(x_train),len(y_train)"
   ]
  },
  {
   "cell_type": "code",
   "execution_count": 146,
   "id": "c82233a9",
   "metadata": {},
   "outputs": [
    {
     "name": "stderr",
     "output_type": "stream",
     "text": [
      "C:\\Users\\Hariharan.M\\AppData\\Roaming\\Python\\Python310\\site-packages\\sklearn\\linear_model\\_logistic.py:814: ConvergenceWarning: lbfgs failed to converge (status=1):\n",
      "STOP: TOTAL NO. of ITERATIONS REACHED LIMIT.\n",
      "\n",
      "Increase the number of iterations (max_iter) or scale the data as shown in:\n",
      "    https://scikit-learn.org/stable/modules/preprocessing.html\n",
      "Please also refer to the documentation for alternative solver options:\n",
      "    https://scikit-learn.org/stable/modules/linear_model.html#logistic-regression\n",
      "  n_iter_i = _check_optimize_result(\n"
     ]
    },
    {
     "data": {
      "text/plain": [
       "LogisticRegression()"
      ]
     },
     "execution_count": 146,
     "metadata": {},
     "output_type": "execute_result"
    }
   ],
   "source": [
    "lg=LogisticRegression()\n",
    "lg.fit(x_train,y_train)"
   ]
  },
  {
   "cell_type": "code",
   "execution_count": 148,
   "id": "ff3f09ab",
   "metadata": {},
   "outputs": [
    {
     "name": "stdout",
     "output_type": "stream",
     "text": [
      "              precision    recall  f1-score   support\n",
      "\n",
      "           0       0.91      0.72      0.80      1033\n",
      "           1       0.50      0.80      0.62       374\n",
      "\n",
      "    accuracy                           0.74      1407\n",
      "   macro avg       0.71      0.76      0.71      1407\n",
      "weighted avg       0.80      0.74      0.75      1407\n",
      "\n"
     ]
    }
   ],
   "source": [
    "y_predict2=lg.predict(x_test)\n",
    "print(classification_report(y_test,y_predict2))"
   ]
  },
  {
   "cell_type": "markdown",
   "id": "f448e494",
   "metadata": {},
   "source": [
    "# number three"
   ]
  },
  {
   "cell_type": "code",
   "execution_count": 149,
   "id": "dbc08fa5",
   "metadata": {},
   "outputs": [],
   "source": [
    "x_train,y_train=get_batch(2990,4130)"
   ]
  },
  {
   "cell_type": "code",
   "execution_count": 150,
   "id": "5a9790ef",
   "metadata": {},
   "outputs": [
    {
     "data": {
      "text/plain": [
       "(2635, 2635)"
      ]
     },
     "execution_count": 150,
     "metadata": {},
     "output_type": "execute_result"
    }
   ],
   "source": [
    "len(x_train),len(y_train)"
   ]
  },
  {
   "cell_type": "code",
   "execution_count": 151,
   "id": "9cd4049b",
   "metadata": {},
   "outputs": [
    {
     "name": "stderr",
     "output_type": "stream",
     "text": [
      "C:\\Users\\Hariharan.M\\AppData\\Roaming\\Python\\Python310\\site-packages\\sklearn\\linear_model\\_logistic.py:814: ConvergenceWarning: lbfgs failed to converge (status=1):\n",
      "STOP: TOTAL NO. of ITERATIONS REACHED LIMIT.\n",
      "\n",
      "Increase the number of iterations (max_iter) or scale the data as shown in:\n",
      "    https://scikit-learn.org/stable/modules/preprocessing.html\n",
      "Please also refer to the documentation for alternative solver options:\n",
      "    https://scikit-learn.org/stable/modules/linear_model.html#logistic-regression\n",
      "  n_iter_i = _check_optimize_result(\n"
     ]
    },
    {
     "data": {
      "text/plain": [
       "LogisticRegression()"
      ]
     },
     "execution_count": 151,
     "metadata": {},
     "output_type": "execute_result"
    }
   ],
   "source": [
    "lg=LogisticRegression()\n",
    "lg.fit(x_train,y_train)"
   ]
  },
  {
   "cell_type": "code",
   "execution_count": 153,
   "id": "f56e6f13",
   "metadata": {},
   "outputs": [
    {
     "name": "stdout",
     "output_type": "stream",
     "text": [
      "              precision    recall  f1-score   support\n",
      "\n",
      "           0       0.91      0.65      0.76      1033\n",
      "           1       0.46      0.83      0.59       374\n",
      "\n",
      "    accuracy                           0.70      1407\n",
      "   macro avg       0.69      0.74      0.68      1407\n",
      "weighted avg       0.79      0.70      0.72      1407\n",
      "\n"
     ]
    }
   ],
   "source": [
    "y_predict3=lg.predict(x_test)\n",
    "print(classification_report(y_test,y_predict3))"
   ]
  },
  {
   "cell_type": "markdown",
   "id": "693c97f0",
   "metadata": {},
   "source": [
    "y_final= y_predict1+ y_predict2+ y_predict3"
   ]
  },
  {
   "cell_type": "code",
   "execution_count": 155,
   "id": "65c02f7f",
   "metadata": {},
   "outputs": [],
   "source": [
    "y_final=y_predict1.copy()\n",
    "\n",
    "for i in range(len(y_final)):\n",
    "    if  y_predict1[i]+ y_predict2[i]+ y_predict3[i]>1:\n",
    "        y_final[i]=1\n",
    "    else:\n",
    "        y_final[i]=0\n",
    "    "
   ]
  },
  {
   "cell_type": "code",
   "execution_count": 156,
   "id": "726a223e",
   "metadata": {},
   "outputs": [
    {
     "data": {
      "text/plain": [
       "array([0, 1], dtype=int64)"
      ]
     },
     "execution_count": 156,
     "metadata": {},
     "output_type": "execute_result"
    }
   ],
   "source": [
    "np.unique(y_final)"
   ]
  },
  {
   "cell_type": "code",
   "execution_count": 157,
   "id": "5ca304c6",
   "metadata": {},
   "outputs": [
    {
     "name": "stdout",
     "output_type": "stream",
     "text": [
      "              precision    recall  f1-score   support\n",
      "\n",
      "           0       0.91      0.69      0.78      1033\n",
      "           1       0.49      0.82      0.61       374\n",
      "\n",
      "    accuracy                           0.72      1407\n",
      "   macro avg       0.70      0.75      0.70      1407\n",
      "weighted avg       0.80      0.72      0.74      1407\n",
      "\n"
     ]
    }
   ],
   "source": [
    "print(classification_report(y_test,y_final))"
   ]
  },
  {
   "cell_type": "markdown",
   "id": "2e8b0d96",
   "metadata": {},
   "source": [
    "#best of above method is known by seeing their classification report f1-score\n",
    "undersampling - f1score is .71,.73\n",
    "oversampling  - f1score is .73,.76\n",
    "SMOTE         - f1score is .80,.81   #in this data set SMOTE gives best values\n",
    "ensemble      - f1score is .78,.61"
   ]
  },
  {
   "cell_type": "markdown",
   "id": "b9e33fcb",
   "metadata": {},
   "source": []
  }
 ],
 "metadata": {
  "kernelspec": {
   "display_name": "pandas_venv",
   "language": "python",
   "name": "pandas_venv"
  },
  "language_info": {
   "codemirror_mode": {
    "name": "ipython",
    "version": 3
   },
   "file_extension": ".py",
   "mimetype": "text/x-python",
   "name": "python",
   "nbconvert_exporter": "python",
   "pygments_lexer": "ipython3",
   "version": "3.10.1"
  }
 },
 "nbformat": 4,
 "nbformat_minor": 5
}
